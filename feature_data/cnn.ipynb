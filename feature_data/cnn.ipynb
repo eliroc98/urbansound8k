{
 "cells": [
  {
   "cell_type": "code",
   "execution_count": 1,
   "id": "294c1073",
   "metadata": {},
   "outputs": [],
   "source": [
    "import os\n",
    "import numpy as np\n",
    "import tqdm\n",
    "from tqdm.notebook import tqdm_notebook\n",
    "import pandas as pd\n",
    "import datetime\n",
    "import sklearn"
   ]
  },
  {
   "cell_type": "code",
   "execution_count": 2,
   "id": "dd0a4d80",
   "metadata": {},
   "outputs": [],
   "source": [
    "import tensorflow as tf\n",
    "import tensorflow.keras\n",
    "from tensorflow.keras import layers\n",
    "from tensorflow.keras.models import Sequential\n",
    "from sklearn.model_selection import cross_val_score"
   ]
  },
  {
   "cell_type": "code",
   "execution_count": 3,
   "id": "881eb490",
   "metadata": {},
   "outputs": [],
   "source": [
    "from tensorflow.keras.layers import Dense, Flatten, Conv1D, MaxPooling1D"
   ]
  },
  {
   "cell_type": "code",
   "execution_count": 5,
   "id": "c9ad4bd7",
   "metadata": {},
   "outputs": [],
   "source": [
    "import matplotlib.pyplot as plt"
   ]
  },
  {
   "cell_type": "code",
   "execution_count": 6,
   "id": "b34d1fca",
   "metadata": {},
   "outputs": [],
   "source": [
    "tqdm_notebook.pandas()"
   ]
  },
  {
   "cell_type": "markdown",
   "id": "208e8a22",
   "metadata": {},
   "source": [
    "# Train"
   ]
  },
  {
   "cell_type": "code",
   "execution_count": 5,
   "id": "8abfc6c0",
   "metadata": {},
   "outputs": [],
   "source": [
    "training_folds = [1,2,3,4,6]\n",
    "features = ['mfcc', 'spectogram', 'mel_spectogram', 'chroma_stft', 'chroma_cqt', 'chroma_cens', 'spectral_contrast', 'tonnetz', 'rms', 'spectral_centroid', 'spectral_bandwidth', 'spectral_flatness', 'poly_features', 'zero_crossing_rate', 'spectral_rolloff']"
   ]
  },
  {
   "cell_type": "code",
   "execution_count": 6,
   "id": "8d3a0e99",
   "metadata": {},
   "outputs": [
    {
     "data": {
      "application/vnd.jupyter.widget-view+json": {
       "model_id": "18c62bd52fc246178c948dc72c39f3a2",
       "version_major": 2,
       "version_minor": 0
      },
      "text/plain": [
       "Features loop:   0%|          | 0/15 [00:00<?, ?it/s]"
      ]
     },
     "metadata": {},
     "output_type": "display_data"
    }
   ],
   "source": [
    "n_features = 0\n",
    "feature_matrices = []\n",
    "for feature in tqdm_notebook(features, desc = \"Features loop\"):\n",
    "    feature_matrix = np.load(f'/Users/lizzy/Desktop/Universita/cesab/project/all_data/train_data/{feature}_matrix.npy')\n",
    "    n_observations = feature_matrix.shape[0]\n",
    "    if len(feature_matrix.shape) > 2:\n",
    "        n_features = n_features + feature_matrix.shape[1]\n",
    "    else:\n",
    "        n_features = n_features + 1\n",
    "        n_samples = feature_matrix.shape[1]\n",
    "    feature_matrices.append(feature_matrix)"
   ]
  },
  {
   "cell_type": "code",
   "execution_count": 7,
   "id": "a27c9ee8",
   "metadata": {},
   "outputs": [],
   "source": [
    "X_train = np.ndarray(shape = (n_observations, n_features, n_samples))"
   ]
  },
  {
   "cell_type": "code",
   "execution_count": 8,
   "id": "675ffd27",
   "metadata": {},
   "outputs": [
    {
     "data": {
      "application/vnd.jupyter.widget-view+json": {
       "model_id": "100b61c4c5dc49b19c20f729833defb9",
       "version_major": 2,
       "version_minor": 0
      },
      "text/plain": [
       "Features loop:   0%|          | 0/15 [00:00<?, ?it/s]"
      ]
     },
     "metadata": {},
     "output_type": "display_data"
    }
   ],
   "source": [
    "for feature_matrix in tqdm_notebook(feature_matrices, desc = \"Features loop\"):\n",
    "    for i in range(X_train.shape[0]):\n",
    "        feature_count = 0\n",
    "        if len(feature_matrix.shape) > 2:\n",
    "            for j in range(feature_matrix.shape[1]):\n",
    "                X_train[i, feature_count] = feature_matrix[i, j]\n",
    "                feature_count = feature_count + 1\n",
    "        else:\n",
    "            X_train[i, feature_count] = feature_matrix[i]\n",
    "            feature_count = feature_count + 1"
   ]
  },
  {
   "cell_type": "code",
   "execution_count": 9,
   "id": "76d76688",
   "metadata": {},
   "outputs": [],
   "source": [
    "y_train = np.load('/Users/lizzy/Desktop/Universita/cesab/project/all_data/train_data/training_class.json.npy')"
   ]
  },
  {
   "cell_type": "markdown",
   "id": "871fd4e6",
   "metadata": {},
   "source": [
    "# Test"
   ]
  },
  {
   "cell_type": "code",
   "execution_count": 10,
   "id": "16aa5e75",
   "metadata": {},
   "outputs": [],
   "source": [
    "test_folds = [5,7,8,9,10]\n",
    "features = ['mfcc', 'spectogram', 'mel_spectogram', 'chroma_stft', 'chroma_cqt', 'chroma_cens', 'spectral_contrast', 'tonnetz', 'rms', 'spectral_centroid', 'spectral_bandwidth', 'spectral_flatness', 'poly_features', 'zero_crossing_rate', 'spectral_rolloff']"
   ]
  },
  {
   "cell_type": "code",
   "execution_count": 11,
   "id": "4dfdd8b4",
   "metadata": {},
   "outputs": [
    {
     "data": {
      "application/vnd.jupyter.widget-view+json": {
       "model_id": "c7af31d7940345cd92f731da70ccd739",
       "version_major": 2,
       "version_minor": 0
      },
      "text/plain": [
       "Features loop:   0%|          | 0/15 [00:00<?, ?it/s]"
      ]
     },
     "metadata": {},
     "output_type": "display_data"
    }
   ],
   "source": [
    "n_features = 0\n",
    "feature_matrices = []\n",
    "for feature in tqdm_notebook(features, desc = \"Features loop\"):\n",
    "    feature_matrix = np.load(f'/Users/lizzy/Desktop/Universita/cesab/project/all_data/test_data/{feature}_matrix.npy')\n",
    "    n_observations = feature_matrix.shape[0]\n",
    "    if len(feature_matrix.shape) > 2:\n",
    "        n_features = n_features + feature_matrix.shape[1]\n",
    "    else:\n",
    "        n_features = n_features + 1\n",
    "        n_samples = feature_matrix.shape[1]\n",
    "    feature_matrices.append(feature_matrix)"
   ]
  },
  {
   "cell_type": "code",
   "execution_count": 12,
   "id": "d635f8b8",
   "metadata": {},
   "outputs": [],
   "source": [
    "X_test = np.ndarray(shape = (n_observations, n_features, n_samples))"
   ]
  },
  {
   "cell_type": "code",
   "execution_count": 13,
   "id": "7f69a35a",
   "metadata": {},
   "outputs": [
    {
     "data": {
      "application/vnd.jupyter.widget-view+json": {
       "model_id": "e0673b5392c64c6a9e8918a0be31008a",
       "version_major": 2,
       "version_minor": 0
      },
      "text/plain": [
       "Features loop:   0%|          | 0/15 [00:00<?, ?it/s]"
      ]
     },
     "metadata": {},
     "output_type": "display_data"
    }
   ],
   "source": [
    "for feature_matrix in tqdm_notebook(feature_matrices, desc = \"Features loop\"):\n",
    "    for i in range(X_test.shape[0]):\n",
    "        feature_count = 0\n",
    "        if len(feature_matrix.shape) > 2:\n",
    "            for j in range(feature_matrix.shape[1]):\n",
    "                X_test[i, feature_count] = feature_matrix[i, j]\n",
    "                feature_count = feature_count + 1\n",
    "        else:\n",
    "            X_test[i, feature_count] = feature_matrix[i]\n",
    "            feature_count = feature_count + 1"
   ]
  },
  {
   "cell_type": "code",
   "execution_count": 14,
   "id": "14aaedac",
   "metadata": {},
   "outputs": [],
   "source": [
    "y_test = np.load('/Users/lizzy/Desktop/Universita/cesab/project/all_data/test_data/test_class.json.npy')"
   ]
  },
  {
   "cell_type": "code",
   "execution_count": 15,
   "id": "711585af",
   "metadata": {},
   "outputs": [
    {
     "data": {
      "application/vnd.jupyter.widget-view+json": {
       "model_id": "24330f9ec767416c918b28b5716d5b40",
       "version_major": 2,
       "version_minor": 0
      },
      "text/plain": [
       "  0%|          | 0/5 [00:00<?, ?it/s]"
      ]
     },
     "metadata": {},
     "output_type": "display_data"
    }
   ],
   "source": [
    "for i in tqdm_notebook(range(5)):\n",
    "    if i != 4:\n",
    "        start = i * 1000\n",
    "        stop = (i+1)*1000\n",
    "        np.save(f'/Users/lizzy/Desktop/Universita/cesab/project/all_data/train_data/X_train_complete{i}.npy',X_train[start:stop,:,:])\n",
    "        np.save(f'/Users/lizzy/Desktop/Universita/cesab/project/all_data/train_data/y_train{i}.npy',y_train[start:stop])\n",
    "        np.save(f'/Users/lizzy/Desktop/Universita/cesab/project/all_data/test_data/X_test_complete{i}.npy',X_test[start:stop,:,:])\n",
    "        np.save(f'/Users/lizzy/Desktop/Universita/cesab/project/all_data/test_data/y_test{i}.npy',y_test[start:stop])\n",
    "    else:\n",
    "        start = i * 1000\n",
    "        np.save(f'/Users/lizzy/Desktop/Universita/cesab/project/all_data/train_data/X_train_complete{i}.npy',X_train[start:,:,:])\n",
    "        np.save(f'/Users/lizzy/Desktop/Universita/cesab/project/all_data/train_data/y_train{i}.npy',y_train[start:])\n",
    "        np.save(f'/Users/lizzy/Desktop/Universita/cesab/project/all_data/test_data/X_test_complete{i}.npy',X_test[start:,:,:])\n",
    "        np.save(f'/Users/lizzy/Desktop/Universita/cesab/project/all_data/test_data/y_test{i}.npy',y_test[start:])\n",
    "    "
   ]
  },
  {
   "cell_type": "code",
   "execution_count": 15,
   "id": "e0bc27b4",
   "metadata": {},
   "outputs": [],
   "source": [
    "np.save('/Users/lizzy/Desktop/Universita/cesab/project/all_data/train_data/X_train_complete.npy',X_train)"
   ]
  },
  {
   "cell_type": "code",
   "execution_count": 16,
   "id": "145e29b4",
   "metadata": {},
   "outputs": [],
   "source": [
    "np.save('/Users/lizzy/Desktop/Universita/cesab/project/all_data/test_data/X_test_complete.npy',X_test)"
   ]
  },
  {
   "cell_type": "code",
   "execution_count": 17,
   "id": "779b0f74",
   "metadata": {},
   "outputs": [],
   "source": [
    "np.save('/Users/lizzy/Desktop/Universita/cesab/project/all_data/train_data/y_train.npy',y_train)"
   ]
  },
  {
   "cell_type": "code",
   "execution_count": 18,
   "id": "c3adf2c1",
   "metadata": {},
   "outputs": [],
   "source": [
    "np.save('/Users/lizzy/Desktop/Universita/cesab/project/all_data/test_data/y_test.npy',y_test)"
   ]
  },
  {
   "cell_type": "markdown",
   "id": "5cbe2085",
   "metadata": {},
   "source": [
    "# Neural Network"
   ]
  },
  {
   "cell_type": "code",
   "execution_count": 8,
   "id": "9f0e7fc4",
   "metadata": {},
   "outputs": [
    {
     "data": {
      "text/plain": [
       "(233, 1250, 173)"
      ]
     },
     "execution_count": 8,
     "metadata": {},
     "output_type": "execute_result"
    }
   ],
   "source": [
    "X_test.shape"
   ]
  },
  {
   "cell_type": "code",
   "execution_count": 5,
   "id": "deb05843",
   "metadata": {
    "scrolled": true
   },
   "outputs": [
    {
     "data": {
      "application/vnd.jupyter.widget-view+json": {
       "model_id": "f904e0997d1747dea2bb1a84d75eda41",
       "version_major": 2,
       "version_minor": 0
      },
      "text/plain": [
       "  0%|          | 0/4 [00:00<?, ?it/s]"
      ]
     },
     "metadata": {},
     "output_type": "display_data"
    },
    {
     "name": "stdout",
     "output_type": "stream",
     "text": [
      "Epoch 1/30\n",
      "WARNING:tensorflow:AutoGraph could not transform <function Model.make_train_function.<locals>.train_function at 0x174b53700> and will run it as-is.\n",
      "Please report this to the TensorFlow team. When filing the bug, set the verbosity to 10 (on Linux, `export AUTOGRAPH_VERBOSITY=10`) and attach the full output.\n",
      "Cause: unsupported operand type(s) for -: 'NoneType' and 'int'\n",
      "To silence this warning, decorate the function with @tf.autograph.experimental.do_not_convert\n",
      "WARNING: AutoGraph could not transform <function Model.make_train_function.<locals>.train_function at 0x174b53700> and will run it as-is.\n",
      "Please report this to the TensorFlow team. When filing the bug, set the verbosity to 10 (on Linux, `export AUTOGRAPH_VERBOSITY=10`) and attach the full output.\n",
      "Cause: unsupported operand type(s) for -: 'NoneType' and 'int'\n",
      "To silence this warning, decorate the function with @tf.autograph.experimental.do_not_convert\n"
     ]
    },
    {
     "name": "stderr",
     "output_type": "stream",
     "text": [
      "2021-08-31 10:37:04.513565: I tensorflow/compiler/mlir/mlir_graph_optimization_pass.cc:116] None of the MLIR optimization passes are enabled (registered 2)\n",
      "2021-08-31 10:37:04.513791: W tensorflow/core/platform/profile_utils/cpu_utils.cc:126] Failed to get CPU frequency: 0 Hz\n"
     ]
    },
    {
     "name": "stdout",
     "output_type": "stream",
     "text": [
      "20/20 [==============================] - ETA: 0s - loss: 2.0984 - accuracy: 0.2438WARNING:tensorflow:AutoGraph could not transform <function Model.make_test_function.<locals>.test_function at 0x3a0ae9550> and will run it as-is.\n",
      "Please report this to the TensorFlow team. When filing the bug, set the verbosity to 10 (on Linux, `export AUTOGRAPH_VERBOSITY=10`) and attach the full output.\n",
      "Cause: unsupported operand type(s) for -: 'NoneType' and 'int'\n",
      "To silence this warning, decorate the function with @tf.autograph.experimental.do_not_convert\n",
      "WARNING: AutoGraph could not transform <function Model.make_test_function.<locals>.test_function at 0x3a0ae9550> and will run it as-is.\n",
      "Please report this to the TensorFlow team. When filing the bug, set the verbosity to 10 (on Linux, `export AUTOGRAPH_VERBOSITY=10`) and attach the full output.\n",
      "Cause: unsupported operand type(s) for -: 'NoneType' and 'int'\n",
      "To silence this warning, decorate the function with @tf.autograph.experimental.do_not_convert\n",
      "20/20 [==============================] - 2s 106ms/step - loss: 2.0846 - accuracy: 0.2496 - val_loss: 2.2598 - val_accuracy: 0.2090\n",
      "Epoch 2/30\n",
      "20/20 [==============================] - 2s 85ms/step - loss: 1.3225 - accuracy: 0.5358 - val_loss: 2.4461 - val_accuracy: 0.2430\n",
      "Epoch 3/30\n",
      "20/20 [==============================] - 2s 84ms/step - loss: 1.0026 - accuracy: 0.6295 - val_loss: 2.2697 - val_accuracy: 0.3490\n",
      "Epoch 4/30\n",
      "20/20 [==============================] - 2s 84ms/step - loss: 0.7010 - accuracy: 0.7556 - val_loss: 2.5683 - val_accuracy: 0.2700\n",
      "Epoch 5/30\n",
      "20/20 [==============================] - 2s 84ms/step - loss: 0.5557 - accuracy: 0.8191 - val_loss: 3.0097 - val_accuracy: 0.3360\n",
      "Epoch 6/30\n",
      "20/20 [==============================] - 2s 84ms/step - loss: 0.3345 - accuracy: 0.8714 - val_loss: 3.4176 - val_accuracy: 0.2560\n",
      "Epoch 7/30\n",
      "20/20 [==============================] - 2s 84ms/step - loss: 0.3958 - accuracy: 0.8749 - val_loss: 3.3350 - val_accuracy: 0.3220\n",
      "Epoch 8/30\n",
      "20/20 [==============================] - 2s 84ms/step - loss: 0.2296 - accuracy: 0.9279 - val_loss: 3.3136 - val_accuracy: 0.3280\n",
      "Epoch 9/30\n",
      "20/20 [==============================] - 2s 85ms/step - loss: 0.1777 - accuracy: 0.9537 - val_loss: 4.0559 - val_accuracy: 0.3190\n",
      "Epoch 10/30\n",
      "20/20 [==============================] - 2s 84ms/step - loss: 0.1555 - accuracy: 0.9554 - val_loss: 5.3180 - val_accuracy: 0.3380\n",
      "Epoch 11/30\n",
      "20/20 [==============================] - 2s 84ms/step - loss: 0.1689 - accuracy: 0.9447 - val_loss: 4.2963 - val_accuracy: 0.2740\n",
      "Epoch 12/30\n",
      "20/20 [==============================] - 2s 85ms/step - loss: 0.1927 - accuracy: 0.9536 - val_loss: 4.1274 - val_accuracy: 0.3060\n",
      "Epoch 13/30\n",
      "20/20 [==============================] - 2s 84ms/step - loss: 0.2414 - accuracy: 0.9468 - val_loss: 4.3471 - val_accuracy: 0.2700\n",
      "Epoch 14/30\n",
      "20/20 [==============================] - 2s 84ms/step - loss: 0.0751 - accuracy: 0.9724 - val_loss: 5.7042 - val_accuracy: 0.2910\n",
      "Epoch 15/30\n",
      "20/20 [==============================] - 2s 85ms/step - loss: 0.0751 - accuracy: 0.9759 - val_loss: 5.0214 - val_accuracy: 0.3020\n",
      "Epoch 16/30\n",
      "20/20 [==============================] - 2s 84ms/step - loss: 0.0430 - accuracy: 0.9863 - val_loss: 5.2196 - val_accuracy: 0.3060\n",
      "Epoch 17/30\n",
      "20/20 [==============================] - 2s 84ms/step - loss: 0.0334 - accuracy: 0.9926 - val_loss: 5.6466 - val_accuracy: 0.3050\n",
      "Epoch 18/30\n",
      "20/20 [==============================] - 2s 84ms/step - loss: 0.0523 - accuracy: 0.9834 - val_loss: 5.4294 - val_accuracy: 0.2880\n",
      "Epoch 19/30\n",
      "20/20 [==============================] - 2s 85ms/step - loss: 0.0553 - accuracy: 0.9840 - val_loss: 5.2020 - val_accuracy: 0.3200\n",
      "Epoch 20/30\n",
      "20/20 [==============================] - 2s 84ms/step - loss: 0.0207 - accuracy: 0.9957 - val_loss: 6.1443 - val_accuracy: 0.2860\n",
      "Epoch 21/30\n",
      "20/20 [==============================] - 2s 84ms/step - loss: 0.0500 - accuracy: 0.9812 - val_loss: 5.4822 - val_accuracy: 0.3410\n",
      "Epoch 22/30\n",
      "20/20 [==============================] - 2s 85ms/step - loss: 0.0405 - accuracy: 0.9862 - val_loss: 5.9680 - val_accuracy: 0.3070\n",
      "Epoch 23/30\n",
      "20/20 [==============================] - 2s 84ms/step - loss: 0.0111 - accuracy: 0.9995 - val_loss: 6.1913 - val_accuracy: 0.3070\n",
      "Epoch 24/30\n",
      "20/20 [==============================] - 2s 84ms/step - loss: 0.0140 - accuracy: 0.9957 - val_loss: 6.8096 - val_accuracy: 0.2970\n",
      "Epoch 25/30\n",
      "20/20 [==============================] - 2s 86ms/step - loss: 0.0045 - accuracy: 0.9995 - val_loss: 6.5759 - val_accuracy: 0.3240\n",
      "Epoch 26/30\n",
      "20/20 [==============================] - 2s 85ms/step - loss: 0.0101 - accuracy: 0.9970 - val_loss: 6.5265 - val_accuracy: 0.2890\n",
      "Epoch 27/30\n",
      "20/20 [==============================] - 2s 85ms/step - loss: 0.0072 - accuracy: 0.9986 - val_loss: 6.1411 - val_accuracy: 0.2980\n",
      "Epoch 28/30\n",
      "20/20 [==============================] - 2s 85ms/step - loss: 0.0055 - accuracy: 0.9996 - val_loss: 6.5665 - val_accuracy: 0.3070\n",
      "Epoch 29/30\n",
      "20/20 [==============================] - 2s 85ms/step - loss: 0.0030 - accuracy: 0.9989 - val_loss: 6.7624 - val_accuracy: 0.3010\n",
      "Epoch 30/30\n",
      "20/20 [==============================] - 2s 84ms/step - loss: 0.0043 - accuracy: 0.9985 - val_loss: 6.8814 - val_accuracy: 0.2960\n",
      "Epoch 1/30\n",
      "20/20 [==============================] - 2s 102ms/step - loss: 1.9347 - accuracy: 0.5650 - val_loss: 2.2342 - val_accuracy: 0.3230\n",
      "Epoch 2/30\n",
      "20/20 [==============================] - 2s 85ms/step - loss: 0.7216 - accuracy: 0.7560 - val_loss: 2.8536 - val_accuracy: 0.2860\n",
      "Epoch 3/30\n",
      "20/20 [==============================] - 2s 85ms/step - loss: 0.5773 - accuracy: 0.8090 - val_loss: 2.9197 - val_accuracy: 0.3440\n",
      "Epoch 4/30\n",
      "20/20 [==============================] - 2s 86ms/step - loss: 0.3868 - accuracy: 0.8660 - val_loss: 3.2785 - val_accuracy: 0.3310\n",
      "Epoch 5/30\n",
      "20/20 [==============================] - 2s 85ms/step - loss: 0.2492 - accuracy: 0.9100 - val_loss: 3.5706 - val_accuracy: 0.3040\n",
      "Epoch 6/30\n",
      "20/20 [==============================] - 2s 85ms/step - loss: 0.2186 - accuracy: 0.9310 - val_loss: 3.4111 - val_accuracy: 0.3420\n",
      "Epoch 7/30\n",
      "20/20 [==============================] - 2s 85ms/step - loss: 0.1572 - accuracy: 0.9510 - val_loss: 3.8513 - val_accuracy: 0.3230\n",
      "Epoch 8/30\n",
      "20/20 [==============================] - 2s 85ms/step - loss: 0.0906 - accuracy: 0.9710 - val_loss: 4.4505 - val_accuracy: 0.3200\n",
      "Epoch 9/30\n",
      "20/20 [==============================] - 2s 85ms/step - loss: 0.0873 - accuracy: 0.9750 - val_loss: 4.3717 - val_accuracy: 0.3190\n",
      "Epoch 10/30\n",
      "20/20 [==============================] - 2s 85ms/step - loss: 0.0743 - accuracy: 0.9810 - val_loss: 4.7373 - val_accuracy: 0.3160\n",
      "Epoch 11/30\n",
      "20/20 [==============================] - 2s 86ms/step - loss: 0.0767 - accuracy: 0.9750 - val_loss: 4.7105 - val_accuracy: 0.2960\n",
      "Epoch 12/30\n",
      "20/20 [==============================] - 2s 85ms/step - loss: 0.0371 - accuracy: 0.9910 - val_loss: 4.6562 - val_accuracy: 0.3150\n",
      "Epoch 13/30\n",
      "20/20 [==============================] - 2s 85ms/step - loss: 0.0167 - accuracy: 0.9980 - val_loss: 5.2206 - val_accuracy: 0.3090\n",
      "Epoch 14/30\n",
      "20/20 [==============================] - 2s 86ms/step - loss: 0.0090 - accuracy: 1.0000 - val_loss: 5.3013 - val_accuracy: 0.3320\n",
      "Epoch 15/30\n",
      "20/20 [==============================] - 2s 86ms/step - loss: 0.0046 - accuracy: 1.0000 - val_loss: 5.3992 - val_accuracy: 0.3310\n",
      "Epoch 16/30\n",
      "20/20 [==============================] - 2s 85ms/step - loss: 0.0059 - accuracy: 0.9980 - val_loss: 5.3481 - val_accuracy: 0.3170\n",
      "Epoch 17/30\n",
      "20/20 [==============================] - 2s 86ms/step - loss: 0.0034 - accuracy: 1.0000 - val_loss: 5.4211 - val_accuracy: 0.3340\n",
      "Epoch 18/30\n",
      "20/20 [==============================] - 2s 85ms/step - loss: 0.0128 - accuracy: 0.9970 - val_loss: 5.8856 - val_accuracy: 0.3270\n",
      "Epoch 19/30\n",
      "20/20 [==============================] - 2s 85ms/step - loss: 0.0082 - accuracy: 0.9980 - val_loss: 4.8596 - val_accuracy: 0.3320\n",
      "Epoch 20/30\n",
      "20/20 [==============================] - 2s 85ms/step - loss: 0.0051 - accuracy: 0.9980 - val_loss: 5.3246 - val_accuracy: 0.3220\n",
      "Epoch 21/30\n",
      "20/20 [==============================] - 2s 85ms/step - loss: 0.0069 - accuracy: 0.9990 - val_loss: 5.1506 - val_accuracy: 0.3340\n"
     ]
    },
    {
     "name": "stdout",
     "output_type": "stream",
     "text": [
      "Epoch 22/30\n",
      "20/20 [==============================] - 2s 83ms/step - loss: 0.0017 - accuracy: 1.0000 - val_loss: 5.4875 - val_accuracy: 0.3290\n",
      "Epoch 23/30\n",
      "20/20 [==============================] - 2s 83ms/step - loss: 0.0011 - accuracy: 1.0000 - val_loss: 5.5470 - val_accuracy: 0.3300\n",
      "Epoch 24/30\n",
      "20/20 [==============================] - 2s 84ms/step - loss: 9.1821e-04 - accuracy: 1.0000 - val_loss: 5.5915 - val_accuracy: 0.3330\n",
      "Epoch 25/30\n",
      "20/20 [==============================] - 2s 83ms/step - loss: 7.8103e-04 - accuracy: 1.0000 - val_loss: 5.6808 - val_accuracy: 0.3330\n",
      "Epoch 26/30\n",
      "20/20 [==============================] - 2s 83ms/step - loss: 7.1489e-04 - accuracy: 1.0000 - val_loss: 5.7592 - val_accuracy: 0.3310\n",
      "Epoch 27/30\n",
      "20/20 [==============================] - 2s 84ms/step - loss: 6.1786e-04 - accuracy: 1.0000 - val_loss: 5.7794 - val_accuracy: 0.3340\n",
      "Epoch 28/30\n",
      "20/20 [==============================] - 2s 83ms/step - loss: 5.6312e-04 - accuracy: 1.0000 - val_loss: 5.8385 - val_accuracy: 0.3350\n",
      "Epoch 29/30\n",
      "20/20 [==============================] - 2s 83ms/step - loss: 5.3635e-04 - accuracy: 1.0000 - val_loss: 5.8857 - val_accuracy: 0.3330\n",
      "Epoch 30/30\n",
      "20/20 [==============================] - 2s 83ms/step - loss: 4.7595e-04 - accuracy: 1.0000 - val_loss: 5.9439 - val_accuracy: 0.3340\n",
      "Epoch 1/30\n",
      "20/20 [==============================] - 3s 146ms/step - loss: 2.4104 - accuracy: 0.4210 - val_loss: 2.1643 - val_accuracy: 0.3040\n",
      "Epoch 2/30\n",
      "20/20 [==============================] - 2s 85ms/step - loss: 1.2210 - accuracy: 0.5940 - val_loss: 1.9173 - val_accuracy: 0.4030\n",
      "Epoch 3/30\n",
      "20/20 [==============================] - 2s 84ms/step - loss: 0.8477 - accuracy: 0.7090 - val_loss: 2.5514 - val_accuracy: 0.3680\n",
      "Epoch 4/30\n",
      "20/20 [==============================] - 2s 84ms/step - loss: 0.7551 - accuracy: 0.7530 - val_loss: 2.7557 - val_accuracy: 0.3530\n",
      "Epoch 5/30\n",
      "20/20 [==============================] - 2s 85ms/step - loss: 0.5074 - accuracy: 0.8200 - val_loss: 2.3666 - val_accuracy: 0.4250\n",
      "Epoch 6/30\n",
      "20/20 [==============================] - 2s 84ms/step - loss: 0.3567 - accuracy: 0.8750 - val_loss: 3.0554 - val_accuracy: 0.3670\n",
      "Epoch 7/30\n",
      "20/20 [==============================] - 2s 84ms/step - loss: 0.3050 - accuracy: 0.8860 - val_loss: 3.1600 - val_accuracy: 0.4150\n",
      "Epoch 8/30\n",
      "20/20 [==============================] - 2s 85ms/step - loss: 0.3196 - accuracy: 0.8900 - val_loss: 3.5434 - val_accuracy: 0.3410\n",
      "Epoch 9/30\n",
      "20/20 [==============================] - 2s 84ms/step - loss: 0.2344 - accuracy: 0.9240 - val_loss: 3.2354 - val_accuracy: 0.3710\n",
      "Epoch 10/30\n",
      "20/20 [==============================] - 2s 84ms/step - loss: 0.1833 - accuracy: 0.9420 - val_loss: 3.7421 - val_accuracy: 0.3970\n",
      "Epoch 11/30\n",
      "20/20 [==============================] - 2s 85ms/step - loss: 0.1784 - accuracy: 0.9410 - val_loss: 3.7048 - val_accuracy: 0.3740\n",
      "Epoch 12/30\n",
      "20/20 [==============================] - 2s 84ms/step - loss: 0.1290 - accuracy: 0.9590 - val_loss: 3.5989 - val_accuracy: 0.4210\n",
      "Epoch 13/30\n",
      "20/20 [==============================] - 2s 84ms/step - loss: 0.0848 - accuracy: 0.9720 - val_loss: 4.2389 - val_accuracy: 0.3940\n",
      "Epoch 14/30\n",
      "20/20 [==============================] - 2s 84ms/step - loss: 0.0597 - accuracy: 0.9800 - val_loss: 4.2211 - val_accuracy: 0.3920\n",
      "Epoch 15/30\n",
      "20/20 [==============================] - 2s 84ms/step - loss: 0.0461 - accuracy: 0.9870 - val_loss: 4.6186 - val_accuracy: 0.3650\n",
      "Epoch 16/30\n",
      "20/20 [==============================] - 2s 84ms/step - loss: 0.0818 - accuracy: 0.9770 - val_loss: 3.9576 - val_accuracy: 0.4240\n",
      "Epoch 17/30\n",
      "20/20 [==============================] - 2s 84ms/step - loss: 0.0389 - accuracy: 0.9860 - val_loss: 4.2623 - val_accuracy: 0.3980\n",
      "Epoch 18/30\n",
      "20/20 [==============================] - 2s 85ms/step - loss: 0.0225 - accuracy: 0.9970 - val_loss: 4.1640 - val_accuracy: 0.4370\n",
      "Epoch 19/30\n",
      "20/20 [==============================] - 2s 84ms/step - loss: 0.0119 - accuracy: 0.9970 - val_loss: 4.1863 - val_accuracy: 0.4430\n",
      "Epoch 20/30\n",
      "20/20 [==============================] - 2s 84ms/step - loss: 0.0078 - accuracy: 0.9980 - val_loss: 4.3882 - val_accuracy: 0.4260\n",
      "Epoch 21/30\n",
      "20/20 [==============================] - 2s 84ms/step - loss: 0.0060 - accuracy: 0.9980 - val_loss: 4.7288 - val_accuracy: 0.4090\n",
      "Epoch 22/30\n",
      "20/20 [==============================] - 2s 84ms/step - loss: 0.0045 - accuracy: 0.9980 - val_loss: 4.7038 - val_accuracy: 0.4190\n",
      "Epoch 23/30\n",
      "20/20 [==============================] - 2s 84ms/step - loss: 0.0075 - accuracy: 0.9960 - val_loss: 5.0820 - val_accuracy: 0.3960\n",
      "Epoch 24/30\n",
      "20/20 [==============================] - 2s 84ms/step - loss: 0.0128 - accuracy: 0.9990 - val_loss: 4.5879 - val_accuracy: 0.4410\n",
      "Epoch 25/30\n",
      "20/20 [==============================] - 2s 85ms/step - loss: 0.0060 - accuracy: 0.9990 - val_loss: 4.6267 - val_accuracy: 0.4310\n",
      "Epoch 26/30\n",
      "20/20 [==============================] - 2s 87ms/step - loss: 0.0033 - accuracy: 0.9990 - val_loss: 4.7885 - val_accuracy: 0.4000\n",
      "Epoch 27/30\n",
      "20/20 [==============================] - 2s 94ms/step - loss: 0.0022 - accuracy: 1.0000 - val_loss: 4.9753 - val_accuracy: 0.4220\n",
      "Epoch 28/30\n",
      "20/20 [==============================] - 2s 103ms/step - loss: 0.0022 - accuracy: 1.0000 - val_loss: 4.8981 - val_accuracy: 0.4140\n",
      "Epoch 29/30\n",
      "20/20 [==============================] - 2s 99ms/step - loss: 0.0013 - accuracy: 1.0000 - val_loss: 4.8735 - val_accuracy: 0.4220\n",
      "Epoch 30/30\n",
      "20/20 [==============================] - 2s 93ms/step - loss: 8.2920e-04 - accuracy: 1.0000 - val_loss: 4.9496 - val_accuracy: 0.4230\n",
      "Epoch 1/30\n",
      "WARNING:tensorflow:AutoGraph could not transform <function Model.make_train_function.<locals>.train_function at 0x36e9b58b0> and will run it as-is.\n",
      "Please report this to the TensorFlow team. When filing the bug, set the verbosity to 10 (on Linux, `export AUTOGRAPH_VERBOSITY=10`) and attach the full output.\n",
      "Cause: unsupported operand type(s) for -: 'NoneType' and 'int'\n",
      "To silence this warning, decorate the function with @tf.autograph.experimental.do_not_convert\n",
      "WARNING: AutoGraph could not transform <function Model.make_train_function.<locals>.train_function at 0x36e9b58b0> and will run it as-is.\n",
      "Please report this to the TensorFlow team. When filing the bug, set the verbosity to 10 (on Linux, `export AUTOGRAPH_VERBOSITY=10`) and attach the full output.\n",
      "Cause: unsupported operand type(s) for -: 'NoneType' and 'int'\n",
      "To silence this warning, decorate the function with @tf.autograph.experimental.do_not_convert\n",
      "20/20 [==============================] - ETA: 0s - loss: 1.9646 - accuracy: 0.3019WARNING:tensorflow:AutoGraph could not transform <function Model.make_test_function.<locals>.test_function at 0x36e9cfd30> and will run it as-is.\n",
      "Please report this to the TensorFlow team. When filing the bug, set the verbosity to 10 (on Linux, `export AUTOGRAPH_VERBOSITY=10`) and attach the full output.\n",
      "Cause: unsupported operand type(s) for -: 'NoneType' and 'int'\n",
      "To silence this warning, decorate the function with @tf.autograph.experimental.do_not_convert\n",
      "WARNING: AutoGraph could not transform <function Model.make_test_function.<locals>.test_function at 0x36e9cfd30> and will run it as-is.\n",
      "Please report this to the TensorFlow team. When filing the bug, set the verbosity to 10 (on Linux, `export AUTOGRAPH_VERBOSITY=10`) and attach the full output.\n",
      "Cause: unsupported operand type(s) for -: 'NoneType' and 'int'\n",
      "To silence this warning, decorate the function with @tf.autograph.experimental.do_not_convert\n",
      "20/20 [==============================] - 3s 153ms/step - loss: 1.9538 - accuracy: 0.3055 - val_loss: 2.5100 - val_accuracy: 0.1800\n",
      "Epoch 2/30\n",
      "20/20 [==============================] - 2s 87ms/step - loss: 1.2855 - accuracy: 0.5063 - val_loss: 2.4039 - val_accuracy: 0.2680\n",
      "Epoch 3/30\n",
      "20/20 [==============================] - 2s 86ms/step - loss: 0.8897 - accuracy: 0.6931 - val_loss: 3.1634 - val_accuracy: 0.2770\n",
      "Epoch 4/30\n",
      "20/20 [==============================] - 2s 87ms/step - loss: 0.6213 - accuracy: 0.7774 - val_loss: 3.0675 - val_accuracy: 0.2880\n",
      "Epoch 5/30\n",
      "20/20 [==============================] - 2s 85ms/step - loss: 0.4751 - accuracy: 0.8284 - val_loss: 3.1061 - val_accuracy: 0.3390\n",
      "Epoch 6/30\n"
     ]
    },
    {
     "name": "stdout",
     "output_type": "stream",
     "text": [
      "20/20 [==============================] - 2s 83ms/step - loss: 0.4025 - accuracy: 0.8512 - val_loss: 3.6712 - val_accuracy: 0.3600\n",
      "Epoch 7/30\n",
      "20/20 [==============================] - 2s 84ms/step - loss: 0.3160 - accuracy: 0.8886 - val_loss: 3.5442 - val_accuracy: 0.3630\n",
      "Epoch 8/30\n",
      "20/20 [==============================] - 2s 83ms/step - loss: 0.2818 - accuracy: 0.9132 - val_loss: 4.0106 - val_accuracy: 0.3620\n",
      "Epoch 9/30\n",
      "20/20 [==============================] - 2s 88ms/step - loss: 0.1528 - accuracy: 0.9452 - val_loss: 4.1804 - val_accuracy: 0.4160\n",
      "Epoch 10/30\n",
      "20/20 [==============================] - 2s 85ms/step - loss: 0.0968 - accuracy: 0.9741 - val_loss: 4.8216 - val_accuracy: 0.4050\n",
      "Epoch 11/30\n",
      "20/20 [==============================] - 2s 84ms/step - loss: 0.0742 - accuracy: 0.9778 - val_loss: 4.8830 - val_accuracy: 0.4030\n",
      "Epoch 12/30\n",
      "20/20 [==============================] - 2s 85ms/step - loss: 0.0539 - accuracy: 0.9832 - val_loss: 4.8006 - val_accuracy: 0.3990\n",
      "Epoch 13/30\n",
      "20/20 [==============================] - 2s 87ms/step - loss: 0.0341 - accuracy: 0.9914 - val_loss: 6.0661 - val_accuracy: 0.3660\n",
      "Epoch 14/30\n",
      "20/20 [==============================] - 2s 86ms/step - loss: 0.0884 - accuracy: 0.9727 - val_loss: 4.8281 - val_accuracy: 0.3740\n",
      "Epoch 15/30\n",
      "20/20 [==============================] - 2s 85ms/step - loss: 0.0429 - accuracy: 0.9883 - val_loss: 5.4189 - val_accuracy: 0.3910\n",
      "Epoch 16/30\n",
      "20/20 [==============================] - 2s 85ms/step - loss: 0.0630 - accuracy: 0.9827 - val_loss: 5.4562 - val_accuracy: 0.3510\n",
      "Epoch 17/30\n",
      "20/20 [==============================] - 2s 88ms/step - loss: 0.2149 - accuracy: 0.9339 - val_loss: 4.5137 - val_accuracy: 0.3730\n",
      "Epoch 18/30\n",
      "20/20 [==============================] - 2s 86ms/step - loss: 0.1108 - accuracy: 0.9703 - val_loss: 5.9903 - val_accuracy: 0.3890\n",
      "Epoch 19/30\n",
      "20/20 [==============================] - 2s 85ms/step - loss: 0.0521 - accuracy: 0.9869 - val_loss: 6.6538 - val_accuracy: 0.3800\n",
      "Epoch 20/30\n",
      "20/20 [==============================] - 2s 84ms/step - loss: 0.1325 - accuracy: 0.9674 - val_loss: 6.0162 - val_accuracy: 0.3560\n",
      "Epoch 21/30\n",
      "20/20 [==============================] - 2s 83ms/step - loss: 0.0677 - accuracy: 0.9807 - val_loss: 5.6376 - val_accuracy: 0.4020\n",
      "Epoch 22/30\n",
      "20/20 [==============================] - 2s 83ms/step - loss: 0.0587 - accuracy: 0.9839 - val_loss: 5.5867 - val_accuracy: 0.3980\n",
      "Epoch 23/30\n",
      "20/20 [==============================] - 2s 83ms/step - loss: 0.0633 - accuracy: 0.9869 - val_loss: 5.9435 - val_accuracy: 0.4060\n",
      "Epoch 24/30\n",
      "20/20 [==============================] - 2s 84ms/step - loss: 0.1453 - accuracy: 0.9602 - val_loss: 6.0943 - val_accuracy: 0.3900\n",
      "Epoch 25/30\n",
      "20/20 [==============================] - 2s 84ms/step - loss: 0.1118 - accuracy: 0.9612 - val_loss: 5.5676 - val_accuracy: 0.4100\n",
      "Epoch 26/30\n",
      "20/20 [==============================] - 2s 84ms/step - loss: 0.0348 - accuracy: 0.9897 - val_loss: 6.4205 - val_accuracy: 0.4080\n",
      "Epoch 27/30\n",
      "20/20 [==============================] - 2s 84ms/step - loss: 0.0127 - accuracy: 0.9979 - val_loss: 6.9582 - val_accuracy: 0.4110\n",
      "Epoch 28/30\n",
      "20/20 [==============================] - 2s 84ms/step - loss: 0.0228 - accuracy: 0.9964 - val_loss: 6.6642 - val_accuracy: 0.3940\n",
      "Epoch 29/30\n",
      "20/20 [==============================] - 2s 84ms/step - loss: 0.0093 - accuracy: 0.9967 - val_loss: 6.1147 - val_accuracy: 0.4160\n",
      "Epoch 30/30\n",
      "20/20 [==============================] - 2s 89ms/step - loss: 0.0065 - accuracy: 0.9989 - val_loss: 6.5864 - val_accuracy: 0.4050\n",
      "Epoch 1/30\n",
      "20/20 [==============================] - 3s 150ms/step - loss: 2.0357 - accuracy: 0.5400 - val_loss: 2.5532 - val_accuracy: 0.2630\n",
      "Epoch 2/30\n",
      "20/20 [==============================] - 2s 86ms/step - loss: 0.7502 - accuracy: 0.7510 - val_loss: 3.2133 - val_accuracy: 0.3330\n",
      "Epoch 3/30\n",
      "20/20 [==============================] - 2s 84ms/step - loss: 0.4791 - accuracy: 0.8370 - val_loss: 3.6148 - val_accuracy: 0.3480\n",
      "Epoch 4/30\n",
      "20/20 [==============================] - 2s 84ms/step - loss: 0.3618 - accuracy: 0.8950 - val_loss: 4.5145 - val_accuracy: 0.3110\n",
      "Epoch 5/30\n",
      "20/20 [==============================] - 2s 85ms/step - loss: 0.2017 - accuracy: 0.9280 - val_loss: 5.0673 - val_accuracy: 0.3640\n",
      "Epoch 6/30\n",
      "20/20 [==============================] - 2s 84ms/step - loss: 0.1394 - accuracy: 0.9480 - val_loss: 5.0929 - val_accuracy: 0.3520\n",
      "Epoch 7/30\n",
      "20/20 [==============================] - 2s 84ms/step - loss: 0.1041 - accuracy: 0.9670 - val_loss: 5.3209 - val_accuracy: 0.3550\n",
      "Epoch 8/30\n",
      "20/20 [==============================] - 2s 84ms/step - loss: 0.0649 - accuracy: 0.9790 - val_loss: 5.9677 - val_accuracy: 0.3570\n",
      "Epoch 9/30\n",
      "20/20 [==============================] - 2s 84ms/step - loss: 0.0563 - accuracy: 0.9870 - val_loss: 5.4150 - val_accuracy: 0.3340\n",
      "Epoch 10/30\n",
      "20/20 [==============================] - 2s 84ms/step - loss: 0.0669 - accuracy: 0.9780 - val_loss: 5.7158 - val_accuracy: 0.3610\n",
      "Epoch 11/30\n",
      "20/20 [==============================] - 2s 84ms/step - loss: 0.0402 - accuracy: 0.9900 - val_loss: 6.1018 - val_accuracy: 0.3750\n",
      "Epoch 12/30\n",
      "20/20 [==============================] - 2s 84ms/step - loss: 0.0485 - accuracy: 0.9860 - val_loss: 6.9483 - val_accuracy: 0.3450\n",
      "Epoch 13/30\n",
      "20/20 [==============================] - 2s 84ms/step - loss: 0.0637 - accuracy: 0.9820 - val_loss: 6.0246 - val_accuracy: 0.3650\n",
      "Epoch 14/30\n",
      "20/20 [==============================] - 2s 84ms/step - loss: 0.0442 - accuracy: 0.9840 - val_loss: 5.7232 - val_accuracy: 0.3670\n",
      "Epoch 15/30\n",
      "20/20 [==============================] - 2s 84ms/step - loss: 0.0721 - accuracy: 0.9790 - val_loss: 6.7689 - val_accuracy: 0.3560\n",
      "Epoch 16/30\n",
      "20/20 [==============================] - 2s 84ms/step - loss: 0.0772 - accuracy: 0.9790 - val_loss: 6.8792 - val_accuracy: 0.3520\n",
      "Epoch 17/30\n",
      "20/20 [==============================] - 2s 85ms/step - loss: 0.0483 - accuracy: 0.9840 - val_loss: 6.1637 - val_accuracy: 0.3730\n",
      "Epoch 18/30\n",
      "20/20 [==============================] - 2s 84ms/step - loss: 0.0173 - accuracy: 0.9960 - val_loss: 6.7727 - val_accuracy: 0.3930\n",
      "Epoch 19/30\n",
      "20/20 [==============================] - 2s 84ms/step - loss: 0.0132 - accuracy: 0.9970 - val_loss: 7.3313 - val_accuracy: 0.3570\n",
      "Epoch 20/30\n",
      "20/20 [==============================] - 2s 84ms/step - loss: 0.0189 - accuracy: 0.9930 - val_loss: 7.6102 - val_accuracy: 0.3610\n",
      "Epoch 21/30\n",
      "20/20 [==============================] - 2s 84ms/step - loss: 0.0466 - accuracy: 0.9800 - val_loss: 6.6400 - val_accuracy: 0.3960\n",
      "Epoch 22/30\n",
      "20/20 [==============================] - 2s 85ms/step - loss: 0.0380 - accuracy: 0.9880 - val_loss: 7.0346 - val_accuracy: 0.3500\n",
      "Epoch 23/30\n",
      "20/20 [==============================] - 2s 86ms/step - loss: 0.0160 - accuracy: 0.9940 - val_loss: 6.8711 - val_accuracy: 0.3510\n",
      "Epoch 24/30\n",
      "20/20 [==============================] - 2s 84ms/step - loss: 0.0087 - accuracy: 0.9980 - val_loss: 6.9852 - val_accuracy: 0.3740\n",
      "Epoch 25/30\n",
      "20/20 [==============================] - 2s 86ms/step - loss: 0.0027 - accuracy: 0.9990 - val_loss: 7.0721 - val_accuracy: 0.3710\n",
      "Epoch 26/30\n",
      "20/20 [==============================] - 2s 84ms/step - loss: 0.0114 - accuracy: 0.9980 - val_loss: 7.5602 - val_accuracy: 0.3560\n",
      "Epoch 27/30\n",
      "20/20 [==============================] - 2s 84ms/step - loss: 0.0178 - accuracy: 0.9940 - val_loss: 7.0871 - val_accuracy: 0.3580\n",
      "Epoch 28/30\n",
      "20/20 [==============================] - 2s 85ms/step - loss: 0.0114 - accuracy: 0.9970 - val_loss: 7.2952 - val_accuracy: 0.3680\n",
      "Epoch 29/30\n",
      "20/20 [==============================] - 2s 85ms/step - loss: 0.0485 - accuracy: 0.9820 - val_loss: 6.8956 - val_accuracy: 0.3690\n",
      "Epoch 30/30\n",
      "20/20 [==============================] - 2s 85ms/step - loss: 0.0775 - accuracy: 0.9810 - val_loss: 7.4642 - val_accuracy: 0.3350\n",
      "Epoch 1/30\n",
      "20/20 [==============================] - 3s 163ms/step - loss: 2.6317 - accuracy: 0.4450 - val_loss: 2.1882 - val_accuracy: 0.2470\n",
      "Epoch 2/30\n",
      "20/20 [==============================] - 2s 92ms/step - loss: 1.1203 - accuracy: 0.5910 - val_loss: 2.6787 - val_accuracy: 0.2840\n",
      "Epoch 3/30\n",
      "20/20 [==============================] - 2s 85ms/step - loss: 0.8151 - accuracy: 0.7020 - val_loss: 2.4318 - val_accuracy: 0.3620\n"
     ]
    },
    {
     "name": "stdout",
     "output_type": "stream",
     "text": [
      "Epoch 4/30\n",
      "20/20 [==============================] - 2s 83ms/step - loss: 0.5568 - accuracy: 0.7950 - val_loss: 2.9145 - val_accuracy: 0.3700\n",
      "Epoch 5/30\n",
      "20/20 [==============================] - 2s 83ms/step - loss: 0.4220 - accuracy: 0.8510 - val_loss: 3.0645 - val_accuracy: 0.3940\n",
      "Epoch 6/30\n",
      "20/20 [==============================] - 2s 83ms/step - loss: 0.2812 - accuracy: 0.8920 - val_loss: 3.6872 - val_accuracy: 0.3500\n",
      "Epoch 7/30\n",
      "20/20 [==============================] - 2s 84ms/step - loss: 0.2257 - accuracy: 0.9200 - val_loss: 3.7252 - val_accuracy: 0.3960\n",
      "Epoch 8/30\n",
      "20/20 [==============================] - 2s 83ms/step - loss: 0.1855 - accuracy: 0.9330 - val_loss: 4.1852 - val_accuracy: 0.3460\n",
      "Epoch 9/30\n",
      "20/20 [==============================] - 2s 83ms/step - loss: 0.1435 - accuracy: 0.9480 - val_loss: 4.4739 - val_accuracy: 0.3610\n",
      "Epoch 10/30\n",
      "20/20 [==============================] - 2s 83ms/step - loss: 0.1430 - accuracy: 0.9510 - val_loss: 4.3615 - val_accuracy: 0.3500\n",
      "Epoch 11/30\n",
      "20/20 [==============================] - 2s 83ms/step - loss: 0.1051 - accuracy: 0.9660 - val_loss: 4.5137 - val_accuracy: 0.3510\n",
      "Epoch 12/30\n",
      "20/20 [==============================] - 2s 83ms/step - loss: 0.0720 - accuracy: 0.9800 - val_loss: 5.2546 - val_accuracy: 0.3360\n",
      "Epoch 13/30\n",
      "20/20 [==============================] - 2s 83ms/step - loss: 0.0801 - accuracy: 0.9780 - val_loss: 5.1933 - val_accuracy: 0.3600\n",
      "Epoch 14/30\n",
      "20/20 [==============================] - 2s 83ms/step - loss: 0.0750 - accuracy: 0.9750 - val_loss: 5.2653 - val_accuracy: 0.3200\n",
      "Epoch 15/30\n",
      "20/20 [==============================] - 2s 83ms/step - loss: 0.0615 - accuracy: 0.9840 - val_loss: 5.2951 - val_accuracy: 0.3190\n",
      "Epoch 16/30\n",
      "20/20 [==============================] - 2s 83ms/step - loss: 0.0573 - accuracy: 0.9820 - val_loss: 4.8877 - val_accuracy: 0.3490\n",
      "Epoch 17/30\n",
      "20/20 [==============================] - 2s 83ms/step - loss: 0.0224 - accuracy: 0.9980 - val_loss: 5.3472 - val_accuracy: 0.3680\n",
      "Epoch 18/30\n",
      "20/20 [==============================] - 2s 83ms/step - loss: 0.0183 - accuracy: 0.9950 - val_loss: 5.5637 - val_accuracy: 0.3630\n",
      "Epoch 19/30\n",
      "20/20 [==============================] - 2s 83ms/step - loss: 0.0121 - accuracy: 0.9980 - val_loss: 5.7757 - val_accuracy: 0.3630\n",
      "Epoch 20/30\n",
      "20/20 [==============================] - 2s 84ms/step - loss: 0.0160 - accuracy: 0.9940 - val_loss: 5.9538 - val_accuracy: 0.3430\n",
      "Epoch 21/30\n",
      "20/20 [==============================] - 2s 83ms/step - loss: 0.0128 - accuracy: 0.9970 - val_loss: 6.2404 - val_accuracy: 0.3470\n",
      "Epoch 22/30\n",
      "20/20 [==============================] - 2s 84ms/step - loss: 0.0207 - accuracy: 0.9950 - val_loss: 5.8406 - val_accuracy: 0.3820\n",
      "Epoch 23/30\n",
      "20/20 [==============================] - 2s 85ms/step - loss: 0.0300 - accuracy: 0.9910 - val_loss: 5.9625 - val_accuracy: 0.3960\n",
      "Epoch 24/30\n",
      "20/20 [==============================] - 2s 86ms/step - loss: 0.0147 - accuracy: 0.9980 - val_loss: 6.0883 - val_accuracy: 0.3670\n",
      "Epoch 25/30\n",
      "20/20 [==============================] - 2s 87ms/step - loss: 0.0081 - accuracy: 1.0000 - val_loss: 6.1406 - val_accuracy: 0.3710\n",
      "Epoch 26/30\n",
      "20/20 [==============================] - 2s 91ms/step - loss: 0.0071 - accuracy: 0.9980 - val_loss: 6.5488 - val_accuracy: 0.3660\n",
      "Epoch 27/30\n",
      "20/20 [==============================] - 2s 86ms/step - loss: 0.0047 - accuracy: 0.9980 - val_loss: 6.3398 - val_accuracy: 0.3780\n",
      "Epoch 28/30\n",
      "20/20 [==============================] - 2s 87ms/step - loss: 0.0061 - accuracy: 0.9980 - val_loss: 6.4178 - val_accuracy: 0.3860\n",
      "Epoch 29/30\n",
      "20/20 [==============================] - 2s 90ms/step - loss: 0.0056 - accuracy: 0.9990 - val_loss: 6.3470 - val_accuracy: 0.3580\n",
      "Epoch 30/30\n",
      "20/20 [==============================] - 2s 87ms/step - loss: 0.0014 - accuracy: 1.0000 - val_loss: 6.4265 - val_accuracy: 0.3700\n",
      "Epoch 1/30\n",
      "WARNING:tensorflow:AutoGraph could not transform <function Model.make_train_function.<locals>.train_function at 0x2ad2c94c0> and will run it as-is.\n",
      "Please report this to the TensorFlow team. When filing the bug, set the verbosity to 10 (on Linux, `export AUTOGRAPH_VERBOSITY=10`) and attach the full output.\n",
      "Cause: unsupported operand type(s) for -: 'NoneType' and 'int'\n",
      "To silence this warning, decorate the function with @tf.autograph.experimental.do_not_convert\n",
      "WARNING: AutoGraph could not transform <function Model.make_train_function.<locals>.train_function at 0x2ad2c94c0> and will run it as-is.\n",
      "Please report this to the TensorFlow team. When filing the bug, set the verbosity to 10 (on Linux, `export AUTOGRAPH_VERBOSITY=10`) and attach the full output.\n",
      "Cause: unsupported operand type(s) for -: 'NoneType' and 'int'\n",
      "To silence this warning, decorate the function with @tf.autograph.experimental.do_not_convert\n",
      "20/20 [==============================] - ETA: 0s - loss: 2.0923 - accuracy: 0.2551WARNING:tensorflow:AutoGraph could not transform <function Model.make_test_function.<locals>.test_function at 0x3071fd790> and will run it as-is.\n",
      "Please report this to the TensorFlow team. When filing the bug, set the verbosity to 10 (on Linux, `export AUTOGRAPH_VERBOSITY=10`) and attach the full output.\n",
      "Cause: unsupported operand type(s) for -: 'NoneType' and 'int'\n",
      "To silence this warning, decorate the function with @tf.autograph.experimental.do_not_convert\n",
      "WARNING: AutoGraph could not transform <function Model.make_test_function.<locals>.test_function at 0x3071fd790> and will run it as-is.\n",
      "Please report this to the TensorFlow team. When filing the bug, set the verbosity to 10 (on Linux, `export AUTOGRAPH_VERBOSITY=10`) and attach the full output.\n",
      "Cause: unsupported operand type(s) for -: 'NoneType' and 'int'\n",
      "To silence this warning, decorate the function with @tf.autograph.experimental.do_not_convert\n",
      "20/20 [==============================] - 4s 171ms/step - loss: 2.0791 - accuracy: 0.2592 - val_loss: 2.5621 - val_accuracy: 0.2180\n",
      "Epoch 2/30\n",
      "20/20 [==============================] - 2s 97ms/step - loss: 1.2987 - accuracy: 0.5318 - val_loss: 2.6321 - val_accuracy: 0.3390\n",
      "Epoch 3/30\n",
      "20/20 [==============================] - 2s 91ms/step - loss: 0.8479 - accuracy: 0.7029 - val_loss: 2.8782 - val_accuracy: 0.3350\n",
      "Epoch 4/30\n",
      "20/20 [==============================] - 2s 91ms/step - loss: 0.6097 - accuracy: 0.7693 - val_loss: 3.7709 - val_accuracy: 0.3170\n",
      "Epoch 5/30\n",
      "20/20 [==============================] - 2s 86ms/step - loss: 0.3888 - accuracy: 0.8662 - val_loss: 3.6027 - val_accuracy: 0.3630\n",
      "Epoch 6/30\n",
      "20/20 [==============================] - 2s 85ms/step - loss: 0.3332 - accuracy: 0.8956 - val_loss: 4.1741 - val_accuracy: 0.3350\n",
      "Epoch 7/30\n",
      "20/20 [==============================] - 2s 85ms/step - loss: 0.3579 - accuracy: 0.8832 - val_loss: 4.7438 - val_accuracy: 0.4010\n",
      "Epoch 8/30\n",
      "20/20 [==============================] - 2s 86ms/step - loss: 0.2452 - accuracy: 0.9270 - val_loss: 4.9982 - val_accuracy: 0.3800\n",
      "Epoch 9/30\n",
      "20/20 [==============================] - 2s 85ms/step - loss: 0.2044 - accuracy: 0.9359 - val_loss: 5.3056 - val_accuracy: 0.3510\n",
      "Epoch 10/30\n",
      "20/20 [==============================] - 2s 84ms/step - loss: 0.1960 - accuracy: 0.9235 - val_loss: 5.4893 - val_accuracy: 0.3920\n",
      "Epoch 11/30\n",
      "20/20 [==============================] - 2s 85ms/step - loss: 0.1380 - accuracy: 0.9623 - val_loss: 5.3498 - val_accuracy: 0.3990\n",
      "Epoch 12/30\n",
      "20/20 [==============================] - 2s 84ms/step - loss: 0.1021 - accuracy: 0.9768 - val_loss: 6.0594 - val_accuracy: 0.4140\n",
      "Epoch 13/30\n",
      "20/20 [==============================] - 2s 85ms/step - loss: 0.1077 - accuracy: 0.9601 - val_loss: 4.7546 - val_accuracy: 0.4150\n",
      "Epoch 14/30\n",
      "20/20 [==============================] - 2s 85ms/step - loss: 0.0698 - accuracy: 0.9780 - val_loss: 6.2669 - val_accuracy: 0.4150\n",
      "Epoch 15/30\n",
      "20/20 [==============================] - 2s 84ms/step - loss: 0.0889 - accuracy: 0.9739 - val_loss: 6.0947 - val_accuracy: 0.4330\n",
      "Epoch 16/30\n",
      "20/20 [==============================] - 2s 84ms/step - loss: 0.0503 - accuracy: 0.9880 - val_loss: 6.4119 - val_accuracy: 0.4210\n",
      "Epoch 17/30\n",
      "20/20 [==============================] - 2s 84ms/step - loss: 0.0431 - accuracy: 0.9907 - val_loss: 6.5739 - val_accuracy: 0.4160\n",
      "Epoch 18/30\n",
      "20/20 [==============================] - 2s 83ms/step - loss: 0.0125 - accuracy: 1.0000 - val_loss: 6.7277 - val_accuracy: 0.4100\n",
      "Epoch 19/30\n",
      "20/20 [==============================] - 2s 83ms/step - loss: 0.0078 - accuracy: 0.9995 - val_loss: 7.5865 - val_accuracy: 0.4160\n",
      "Epoch 20/30\n",
      "20/20 [==============================] - 2s 83ms/step - loss: 0.0200 - accuracy: 0.9963 - val_loss: 7.1013 - val_accuracy: 0.4110\n",
      "Epoch 21/30\n",
      "20/20 [==============================] - 2s 84ms/step - loss: 0.0121 - accuracy: 0.9975 - val_loss: 7.7412 - val_accuracy: 0.3990\n",
      "Epoch 22/30\n",
      "20/20 [==============================] - 2s 84ms/step - loss: 0.0074 - accuracy: 0.9977 - val_loss: 7.7669 - val_accuracy: 0.4090\n",
      "Epoch 23/30\n",
      "20/20 [==============================] - 2s 85ms/step - loss: 0.0025 - accuracy: 1.0000 - val_loss: 8.2898 - val_accuracy: 0.4160\n",
      "Epoch 24/30\n",
      "20/20 [==============================] - 2s 87ms/step - loss: 0.0072 - accuracy: 0.9981 - val_loss: 8.5949 - val_accuracy: 0.4170\n",
      "Epoch 25/30\n",
      "20/20 [==============================] - 2s 84ms/step - loss: 0.0076 - accuracy: 0.9965 - val_loss: 8.4048 - val_accuracy: 0.4190\n",
      "Epoch 26/30\n",
      "20/20 [==============================] - 2s 84ms/step - loss: 0.0101 - accuracy: 0.9979 - val_loss: 8.4555 - val_accuracy: 0.4010\n",
      "Epoch 27/30\n",
      "20/20 [==============================] - 2s 83ms/step - loss: 0.0173 - accuracy: 0.9965 - val_loss: 8.9619 - val_accuracy: 0.3950\n",
      "Epoch 28/30\n",
      "20/20 [==============================] - 2s 84ms/step - loss: 0.1946 - accuracy: 0.9514 - val_loss: 4.4179 - val_accuracy: 0.3960\n",
      "Epoch 29/30\n",
      "20/20 [==============================] - 2s 84ms/step - loss: 0.1436 - accuracy: 0.9621 - val_loss: 5.1523 - val_accuracy: 0.4300\n",
      "Epoch 30/30\n",
      "20/20 [==============================] - 2s 92ms/step - loss: 0.0389 - accuracy: 0.9896 - val_loss: 6.8736 - val_accuracy: 0.4180\n",
      "Epoch 1/30\n",
      "20/20 [==============================] - 3s 172ms/step - loss: 1.9832 - accuracy: 0.5040 - val_loss: 2.3369 - val_accuracy: 0.2580\n",
      "Epoch 2/30\n",
      "20/20 [==============================] - 2s 98ms/step - loss: 0.8937 - accuracy: 0.6850 - val_loss: 2.9574 - val_accuracy: 0.2580\n",
      "Epoch 3/30\n",
      "20/20 [==============================] - 2s 96ms/step - loss: 0.5631 - accuracy: 0.8000 - val_loss: 2.9826 - val_accuracy: 0.2790\n",
      "Epoch 4/30\n",
      "20/20 [==============================] - 2s 100ms/step - loss: 0.3579 - accuracy: 0.8600 - val_loss: 3.6154 - val_accuracy: 0.2950\n",
      "Epoch 5/30\n",
      "20/20 [==============================] - 2s 108ms/step - loss: 0.3470 - accuracy: 0.8930 - val_loss: 3.2360 - val_accuracy: 0.2920\n",
      "Epoch 6/30\n",
      "20/20 [==============================] - 2s 99ms/step - loss: 0.1925 - accuracy: 0.9400 - val_loss: 3.6898 - val_accuracy: 0.3180\n",
      "Epoch 7/30\n",
      "20/20 [==============================] - 2s 96ms/step - loss: 0.1562 - accuracy: 0.9420 - val_loss: 3.9375 - val_accuracy: 0.2880\n",
      "Epoch 8/30\n",
      "20/20 [==============================] - 2s 99ms/step - loss: 0.1102 - accuracy: 0.9640 - val_loss: 4.3750 - val_accuracy: 0.3390\n",
      "Epoch 9/30\n",
      "20/20 [==============================] - 2s 101ms/step - loss: 0.0777 - accuracy: 0.9730 - val_loss: 4.4514 - val_accuracy: 0.3320\n",
      "Epoch 10/30\n",
      "20/20 [==============================] - 2s 118ms/step - loss: 0.0415 - accuracy: 0.9850 - val_loss: 4.3372 - val_accuracy: 0.3320\n",
      "Epoch 11/30\n",
      "20/20 [==============================] - 3s 132ms/step - loss: 0.0451 - accuracy: 0.9880 - val_loss: 5.3302 - val_accuracy: 0.3200\n",
      "Epoch 12/30\n",
      "20/20 [==============================] - 2s 107ms/step - loss: 0.0295 - accuracy: 0.9900 - val_loss: 4.8198 - val_accuracy: 0.3290\n",
      "Epoch 13/30\n",
      "20/20 [==============================] - 2s 102ms/step - loss: 0.0197 - accuracy: 0.9930 - val_loss: 5.3643 - val_accuracy: 0.3220\n",
      "Epoch 14/30\n",
      "20/20 [==============================] - 2s 94ms/step - loss: 0.0171 - accuracy: 0.9930 - val_loss: 5.2476 - val_accuracy: 0.3310\n",
      "Epoch 15/30\n",
      "20/20 [==============================] - 2s 102ms/step - loss: 0.0162 - accuracy: 0.9950 - val_loss: 5.4143 - val_accuracy: 0.3250\n",
      "Epoch 16/30\n",
      "20/20 [==============================] - 2s 93ms/step - loss: 0.0201 - accuracy: 0.9940 - val_loss: 5.5013 - val_accuracy: 0.3350\n",
      "Epoch 17/30\n",
      "20/20 [==============================] - 2s 98ms/step - loss: 0.0104 - accuracy: 0.9970 - val_loss: 5.6246 - val_accuracy: 0.3220\n",
      "Epoch 18/30\n",
      "20/20 [==============================] - 2s 93ms/step - loss: 0.0164 - accuracy: 0.9960 - val_loss: 5.9137 - val_accuracy: 0.3280\n",
      "Epoch 19/30\n",
      "20/20 [==============================] - 2s 95ms/step - loss: 0.0217 - accuracy: 0.9960 - val_loss: 5.6261 - val_accuracy: 0.3140\n",
      "Epoch 20/30\n",
      "20/20 [==============================] - 2s 96ms/step - loss: 0.0082 - accuracy: 0.9980 - val_loss: 5.7934 - val_accuracy: 0.3110\n",
      "Epoch 21/30\n",
      "20/20 [==============================] - 2s 83ms/step - loss: 0.0064 - accuracy: 0.9970 - val_loss: 5.8676 - val_accuracy: 0.3150\n",
      "Epoch 22/30\n",
      "20/20 [==============================] - 2s 88ms/step - loss: 0.0058 - accuracy: 0.9990 - val_loss: 6.0357 - val_accuracy: 0.3220\n",
      "Epoch 23/30\n",
      "20/20 [==============================] - 2s 86ms/step - loss: 0.0036 - accuracy: 0.9980 - val_loss: 6.1057 - val_accuracy: 0.3260\n",
      "Epoch 24/30\n",
      "20/20 [==============================] - 2s 84ms/step - loss: 0.0032 - accuracy: 0.9990 - val_loss: 6.1709 - val_accuracy: 0.3260\n",
      "Epoch 25/30\n",
      "20/20 [==============================] - 2s 84ms/step - loss: 0.0021 - accuracy: 1.0000 - val_loss: 6.3054 - val_accuracy: 0.3260\n",
      "Epoch 26/30\n",
      "20/20 [==============================] - 2s 83ms/step - loss: 0.0013 - accuracy: 1.0000 - val_loss: 6.4379 - val_accuracy: 0.3250\n",
      "Epoch 27/30\n",
      "20/20 [==============================] - 2s 83ms/step - loss: 0.0013 - accuracy: 1.0000 - val_loss: 6.5053 - val_accuracy: 0.3260\n",
      "Epoch 28/30\n",
      "20/20 [==============================] - 2s 83ms/step - loss: 0.0015 - accuracy: 1.0000 - val_loss: 6.6927 - val_accuracy: 0.3220\n",
      "Epoch 29/30\n",
      "20/20 [==============================] - 2s 83ms/step - loss: 0.0360 - accuracy: 0.9960 - val_loss: 5.9612 - val_accuracy: 0.3180\n",
      "Epoch 30/30\n",
      "20/20 [==============================] - 2s 82ms/step - loss: 0.0812 - accuracy: 0.9750 - val_loss: 5.8914 - val_accuracy: 0.3030\n",
      "Epoch 1/30\n",
      "20/20 [==============================] - 3s 162ms/step - loss: 2.1480 - accuracy: 0.4830 - val_loss: 2.6734 - val_accuracy: 0.2430\n",
      "Epoch 2/30\n",
      "20/20 [==============================] - 2s 89ms/step - loss: 0.9864 - accuracy: 0.6670 - val_loss: 2.7359 - val_accuracy: 0.3020\n",
      "Epoch 3/30\n",
      "20/20 [==============================] - 2s 83ms/step - loss: 0.7156 - accuracy: 0.7570 - val_loss: 2.4671 - val_accuracy: 0.3440\n",
      "Epoch 4/30\n",
      "20/20 [==============================] - 2s 83ms/step - loss: 0.5172 - accuracy: 0.8250 - val_loss: 3.8667 - val_accuracy: 0.3600\n",
      "Epoch 5/30\n",
      "20/20 [==============================] - 2s 83ms/step - loss: 0.4024 - accuracy: 0.8630 - val_loss: 3.9975 - val_accuracy: 0.3360\n",
      "Epoch 6/30\n",
      "20/20 [==============================] - 2s 83ms/step - loss: 0.2952 - accuracy: 0.8970 - val_loss: 3.7850 - val_accuracy: 0.3410\n",
      "Epoch 7/30\n",
      "20/20 [==============================] - 2s 84ms/step - loss: 0.2189 - accuracy: 0.9270 - val_loss: 4.6992 - val_accuracy: 0.3280\n",
      "Epoch 8/30\n",
      "20/20 [==============================] - 2s 85ms/step - loss: 0.1951 - accuracy: 0.9350 - val_loss: 4.1764 - val_accuracy: 0.3420\n",
      "Epoch 9/30\n",
      "20/20 [==============================] - 2s 89ms/step - loss: 0.1299 - accuracy: 0.9560 - val_loss: 4.4733 - val_accuracy: 0.3420\n",
      "Epoch 10/30\n",
      "20/20 [==============================] - 2s 86ms/step - loss: 0.0816 - accuracy: 0.9750 - val_loss: 5.0325 - val_accuracy: 0.3500\n",
      "Epoch 11/30\n",
      "20/20 [==============================] - 2s 88ms/step - loss: 0.0621 - accuracy: 0.9810 - val_loss: 5.8452 - val_accuracy: 0.3520\n",
      "Epoch 12/30\n",
      "20/20 [==============================] - 2s 84ms/step - loss: 0.0417 - accuracy: 0.9890 - val_loss: 4.9701 - val_accuracy: 0.3750\n",
      "Epoch 13/30\n",
      "20/20 [==============================] - 2s 84ms/step - loss: 0.0257 - accuracy: 0.9940 - val_loss: 5.5744 - val_accuracy: 0.3670\n",
      "Epoch 14/30\n",
      "20/20 [==============================] - 2s 84ms/step - loss: 0.0205 - accuracy: 0.9970 - val_loss: 5.8128 - val_accuracy: 0.3630\n",
      "Epoch 15/30\n",
      "20/20 [==============================] - 2s 85ms/step - loss: 0.0119 - accuracy: 0.9970 - val_loss: 6.0956 - val_accuracy: 0.3580\n"
     ]
    },
    {
     "name": "stdout",
     "output_type": "stream",
     "text": [
      "Epoch 16/30\n",
      "20/20 [==============================] - 2s 86ms/step - loss: 0.0080 - accuracy: 0.9990 - val_loss: 6.2052 - val_accuracy: 0.3590\n",
      "Epoch 17/30\n",
      "20/20 [==============================] - 2s 85ms/step - loss: 0.0080 - accuracy: 0.9990 - val_loss: 6.2567 - val_accuracy: 0.3710\n",
      "Epoch 18/30\n",
      "20/20 [==============================] - 2s 83ms/step - loss: 0.0054 - accuracy: 0.9990 - val_loss: 6.4277 - val_accuracy: 0.3650\n",
      "Epoch 19/30\n",
      "20/20 [==============================] - 2s 83ms/step - loss: 0.0039 - accuracy: 0.9990 - val_loss: 6.5694 - val_accuracy: 0.3600\n",
      "Epoch 20/30\n",
      "20/20 [==============================] - 2s 83ms/step - loss: 0.0029 - accuracy: 1.0000 - val_loss: 6.6890 - val_accuracy: 0.3640\n",
      "Epoch 21/30\n",
      "20/20 [==============================] - 2s 83ms/step - loss: 0.0025 - accuracy: 1.0000 - val_loss: 6.6986 - val_accuracy: 0.3700\n",
      "Epoch 22/30\n",
      "20/20 [==============================] - 2s 84ms/step - loss: 0.0026 - accuracy: 0.9990 - val_loss: 6.6960 - val_accuracy: 0.3680\n",
      "Epoch 23/30\n",
      "20/20 [==============================] - 2s 86ms/step - loss: 0.0021 - accuracy: 1.0000 - val_loss: 6.8794 - val_accuracy: 0.3630\n",
      "Epoch 24/30\n",
      "20/20 [==============================] - 2s 83ms/step - loss: 0.0015 - accuracy: 1.0000 - val_loss: 6.8438 - val_accuracy: 0.3650\n",
      "Epoch 25/30\n",
      "20/20 [==============================] - 2s 84ms/step - loss: 0.0017 - accuracy: 1.0000 - val_loss: 6.9504 - val_accuracy: 0.3620\n",
      "Epoch 26/30\n",
      "20/20 [==============================] - 2s 87ms/step - loss: 0.0012 - accuracy: 1.0000 - val_loss: 6.9546 - val_accuracy: 0.3730\n",
      "Epoch 27/30\n",
      "20/20 [==============================] - 2s 96ms/step - loss: 0.0012 - accuracy: 1.0000 - val_loss: 7.0449 - val_accuracy: 0.3620\n",
      "Epoch 28/30\n",
      "20/20 [==============================] - 2s 83ms/step - loss: 0.0018 - accuracy: 0.9990 - val_loss: 7.2368 - val_accuracy: 0.3560\n",
      "Epoch 29/30\n",
      "20/20 [==============================] - 2s 84ms/step - loss: 0.0047 - accuracy: 0.9980 - val_loss: 6.9560 - val_accuracy: 0.3660\n",
      "Epoch 30/30\n",
      "20/20 [==============================] - 2s 87ms/step - loss: 0.0167 - accuracy: 0.9950 - val_loss: 7.0905 - val_accuracy: 0.3600\n",
      "Epoch 1/30\n",
      "WARNING:tensorflow:AutoGraph could not transform <function Model.make_train_function.<locals>.train_function at 0x2ac86d8b0> and will run it as-is.\n",
      "Please report this to the TensorFlow team. When filing the bug, set the verbosity to 10 (on Linux, `export AUTOGRAPH_VERBOSITY=10`) and attach the full output.\n",
      "Cause: unsupported operand type(s) for -: 'NoneType' and 'int'\n",
      "To silence this warning, decorate the function with @tf.autograph.experimental.do_not_convert\n",
      "WARNING: AutoGraph could not transform <function Model.make_train_function.<locals>.train_function at 0x2ac86d8b0> and will run it as-is.\n",
      "Please report this to the TensorFlow team. When filing the bug, set the verbosity to 10 (on Linux, `export AUTOGRAPH_VERBOSITY=10`) and attach the full output.\n",
      "Cause: unsupported operand type(s) for -: 'NoneType' and 'int'\n",
      "To silence this warning, decorate the function with @tf.autograph.experimental.do_not_convert\n",
      "20/20 [==============================] - ETA: 0s - loss: 2.0242 - accuracy: 0.3015WARNING:tensorflow:AutoGraph could not transform <function Model.make_test_function.<locals>.test_function at 0x36e99c8b0> and will run it as-is.\n",
      "Please report this to the TensorFlow team. When filing the bug, set the verbosity to 10 (on Linux, `export AUTOGRAPH_VERBOSITY=10`) and attach the full output.\n",
      "Cause: unsupported operand type(s) for -: 'NoneType' and 'int'\n",
      "To silence this warning, decorate the function with @tf.autograph.experimental.do_not_convert\n",
      "WARNING: AutoGraph could not transform <function Model.make_test_function.<locals>.test_function at 0x36e99c8b0> and will run it as-is.\n",
      "Please report this to the TensorFlow team. When filing the bug, set the verbosity to 10 (on Linux, `export AUTOGRAPH_VERBOSITY=10`) and attach the full output.\n",
      "Cause: unsupported operand type(s) for -: 'NoneType' and 'int'\n",
      "To silence this warning, decorate the function with @tf.autograph.experimental.do_not_convert\n",
      "20/20 [==============================] - 3s 153ms/step - loss: 2.0100 - accuracy: 0.3061 - val_loss: 2.0930 - val_accuracy: 0.3060\n",
      "Epoch 2/30\n",
      "20/20 [==============================] - 2s 86ms/step - loss: 1.1547 - accuracy: 0.5654 - val_loss: 2.1748 - val_accuracy: 0.3370\n",
      "Epoch 3/30\n",
      "20/20 [==============================] - 2s 84ms/step - loss: 0.8573 - accuracy: 0.7030 - val_loss: 2.7900 - val_accuracy: 0.3980\n",
      "Epoch 4/30\n",
      "20/20 [==============================] - 2s 87ms/step - loss: 0.5932 - accuracy: 0.7874 - val_loss: 2.7262 - val_accuracy: 0.3790\n",
      "Epoch 5/30\n",
      "20/20 [==============================] - 2s 85ms/step - loss: 0.4202 - accuracy: 0.8390 - val_loss: 3.4589 - val_accuracy: 0.3650\n",
      "Epoch 6/30\n",
      "20/20 [==============================] - 2s 86ms/step - loss: 0.3510 - accuracy: 0.8689 - val_loss: 2.9785 - val_accuracy: 0.3890\n",
      "Epoch 7/30\n",
      "20/20 [==============================] - 2s 85ms/step - loss: 0.3129 - accuracy: 0.8834 - val_loss: 3.4240 - val_accuracy: 0.4190\n",
      "Epoch 8/30\n",
      "20/20 [==============================] - 2s 84ms/step - loss: 0.2449 - accuracy: 0.9243 - val_loss: 3.4890 - val_accuracy: 0.4120\n",
      "Epoch 9/30\n",
      "20/20 [==============================] - 2s 86ms/step - loss: 0.2068 - accuracy: 0.9262 - val_loss: 3.0069 - val_accuracy: 0.4350\n",
      "Epoch 10/30\n",
      "20/20 [==============================] - 2s 83ms/step - loss: 0.1349 - accuracy: 0.9656 - val_loss: 3.3084 - val_accuracy: 0.4460\n",
      "Epoch 11/30\n",
      "20/20 [==============================] - 2s 83ms/step - loss: 0.0691 - accuracy: 0.9843 - val_loss: 3.9995 - val_accuracy: 0.4600\n",
      "Epoch 12/30\n",
      "20/20 [==============================] - 2s 83ms/step - loss: 0.0638 - accuracy: 0.9814 - val_loss: 4.1603 - val_accuracy: 0.4390\n",
      "Epoch 13/30\n",
      "20/20 [==============================] - 2s 83ms/step - loss: 0.0489 - accuracy: 0.9841 - val_loss: 4.3063 - val_accuracy: 0.4620\n",
      "Epoch 14/30\n",
      "20/20 [==============================] - 2s 83ms/step - loss: 0.0656 - accuracy: 0.9853 - val_loss: 4.4639 - val_accuracy: 0.4240\n",
      "Epoch 15/30\n",
      "20/20 [==============================] - 2s 83ms/step - loss: 0.0658 - accuracy: 0.9863 - val_loss: 4.2901 - val_accuracy: 0.4330\n",
      "Epoch 16/30\n",
      "20/20 [==============================] - 2s 83ms/step - loss: 0.0312 - accuracy: 0.9939 - val_loss: 5.2254 - val_accuracy: 0.4220\n",
      "Epoch 17/30\n",
      "20/20 [==============================] - 2s 83ms/step - loss: 0.0476 - accuracy: 0.9875 - val_loss: 4.8239 - val_accuracy: 0.4670\n",
      "Epoch 18/30\n",
      "20/20 [==============================] - 2s 84ms/step - loss: 0.0677 - accuracy: 0.9773 - val_loss: 4.7739 - val_accuracy: 0.4080\n",
      "Epoch 19/30\n",
      "20/20 [==============================] - 2s 84ms/step - loss: 0.0699 - accuracy: 0.9813 - val_loss: 4.3975 - val_accuracy: 0.4630\n",
      "Epoch 20/30\n",
      "20/20 [==============================] - 2s 83ms/step - loss: 0.0352 - accuracy: 0.9925 - val_loss: 4.6026 - val_accuracy: 0.4440\n",
      "Epoch 21/30\n",
      "20/20 [==============================] - 2s 83ms/step - loss: 0.0181 - accuracy: 0.9965 - val_loss: 4.9406 - val_accuracy: 0.4340\n",
      "Epoch 22/30\n",
      "20/20 [==============================] - 2s 84ms/step - loss: 0.0153 - accuracy: 0.9966 - val_loss: 4.7768 - val_accuracy: 0.4580\n",
      "Epoch 23/30\n",
      "20/20 [==============================] - 2s 83ms/step - loss: 0.0112 - accuracy: 0.9956 - val_loss: 4.7796 - val_accuracy: 0.4530\n",
      "Epoch 24/30\n",
      "20/20 [==============================] - 2s 83ms/step - loss: 0.0131 - accuracy: 0.9970 - val_loss: 4.9980 - val_accuracy: 0.4460\n",
      "Epoch 25/30\n",
      "20/20 [==============================] - 2s 84ms/step - loss: 0.0027 - accuracy: 1.0000 - val_loss: 4.9312 - val_accuracy: 0.4620\n",
      "Epoch 26/30\n",
      "20/20 [==============================] - 2s 84ms/step - loss: 7.8859e-04 - accuracy: 1.0000 - val_loss: 4.9940 - val_accuracy: 0.4690\n",
      "Epoch 27/30\n",
      "20/20 [==============================] - 2s 83ms/step - loss: 5.3394e-04 - accuracy: 1.0000 - val_loss: 5.1757 - val_accuracy: 0.4620\n",
      "Epoch 28/30\n",
      "20/20 [==============================] - 2s 83ms/step - loss: 3.3506e-04 - accuracy: 1.0000 - val_loss: 5.2648 - val_accuracy: 0.4570\n",
      "Epoch 29/30\n",
      "20/20 [==============================] - 2s 84ms/step - loss: 3.2212e-04 - accuracy: 1.0000 - val_loss: 5.3227 - val_accuracy: 0.4570\n",
      "Epoch 30/30\n",
      "20/20 [==============================] - 2s 88ms/step - loss: 2.4103e-04 - accuracy: 1.0000 - val_loss: 5.3708 - val_accuracy: 0.4560\n",
      "Epoch 1/30\n",
      "20/20 [==============================] - 3s 157ms/step - loss: 2.0521 - accuracy: 0.5040 - val_loss: 1.9990 - val_accuracy: 0.3320\n",
      "Epoch 2/30\n",
      "20/20 [==============================] - 2s 89ms/step - loss: 1.0509 - accuracy: 0.6310 - val_loss: 2.7000 - val_accuracy: 0.3220\n",
      "Epoch 3/30\n",
      "20/20 [==============================] - 2s 83ms/step - loss: 0.7401 - accuracy: 0.7440 - val_loss: 2.5964 - val_accuracy: 0.3690\n",
      "Epoch 4/30\n",
      "20/20 [==============================] - 2s 83ms/step - loss: 0.5009 - accuracy: 0.8170 - val_loss: 3.4180 - val_accuracy: 0.3660\n",
      "Epoch 5/30\n",
      "20/20 [==============================] - 2s 83ms/step - loss: 0.3693 - accuracy: 0.8640 - val_loss: 3.3923 - val_accuracy: 0.3880\n",
      "Epoch 6/30\n",
      "20/20 [==============================] - 2s 83ms/step - loss: 0.2484 - accuracy: 0.9170 - val_loss: 3.7762 - val_accuracy: 0.3610\n",
      "Epoch 7/30\n",
      "20/20 [==============================] - 2s 83ms/step - loss: 0.1453 - accuracy: 0.9520 - val_loss: 4.1700 - val_accuracy: 0.3920\n",
      "Epoch 8/30\n",
      "20/20 [==============================] - 2s 83ms/step - loss: 0.1158 - accuracy: 0.9620 - val_loss: 4.4707 - val_accuracy: 0.3920\n",
      "Epoch 9/30\n",
      "20/20 [==============================] - 2s 83ms/step - loss: 0.0790 - accuracy: 0.9750 - val_loss: 5.2671 - val_accuracy: 0.3870\n",
      "Epoch 10/30\n",
      "20/20 [==============================] - 2s 83ms/step - loss: 0.0701 - accuracy: 0.9750 - val_loss: 5.1206 - val_accuracy: 0.3900\n",
      "Epoch 11/30\n",
      "20/20 [==============================] - 2s 83ms/step - loss: 0.0468 - accuracy: 0.9890 - val_loss: 5.5889 - val_accuracy: 0.3760\n",
      "Epoch 12/30\n",
      "20/20 [==============================] - 2s 83ms/step - loss: 0.0458 - accuracy: 0.9860 - val_loss: 5.5306 - val_accuracy: 0.4000\n",
      "Epoch 13/30\n",
      "20/20 [==============================] - 2s 83ms/step - loss: 0.0958 - accuracy: 0.9800 - val_loss: 6.4725 - val_accuracy: 0.3550\n",
      "Epoch 14/30\n",
      "20/20 [==============================] - 2s 83ms/step - loss: 0.0372 - accuracy: 0.9890 - val_loss: 5.4906 - val_accuracy: 0.3810\n",
      "Epoch 15/30\n",
      "20/20 [==============================] - 2s 83ms/step - loss: 0.0626 - accuracy: 0.9840 - val_loss: 5.8369 - val_accuracy: 0.4150\n",
      "Epoch 16/30\n",
      "20/20 [==============================] - 2s 83ms/step - loss: 0.0624 - accuracy: 0.9830 - val_loss: 5.6270 - val_accuracy: 0.3990\n",
      "Epoch 17/30\n",
      "20/20 [==============================] - 2s 83ms/step - loss: 0.0337 - accuracy: 0.9890 - val_loss: 6.6930 - val_accuracy: 0.3880\n",
      "Epoch 18/30\n",
      "20/20 [==============================] - 2s 83ms/step - loss: 0.0253 - accuracy: 0.9950 - val_loss: 7.1046 - val_accuracy: 0.3750\n",
      "Epoch 19/30\n",
      "20/20 [==============================] - 2s 83ms/step - loss: 0.0363 - accuracy: 0.9880 - val_loss: 6.8123 - val_accuracy: 0.3900\n",
      "Epoch 20/30\n",
      "20/20 [==============================] - 2s 84ms/step - loss: 0.0195 - accuracy: 0.9950 - val_loss: 6.3612 - val_accuracy: 0.4000\n",
      "Epoch 21/30\n",
      "20/20 [==============================] - 2s 83ms/step - loss: 0.0226 - accuracy: 0.9940 - val_loss: 5.8840 - val_accuracy: 0.4070\n",
      "Epoch 22/30\n",
      "20/20 [==============================] - 2s 83ms/step - loss: 0.0542 - accuracy: 0.9860 - val_loss: 6.6839 - val_accuracy: 0.4130\n",
      "Epoch 23/30\n",
      "20/20 [==============================] - 2s 84ms/step - loss: 0.0543 - accuracy: 0.9790 - val_loss: 7.3166 - val_accuracy: 0.3420\n",
      "Epoch 24/30\n",
      "20/20 [==============================] - 2s 83ms/step - loss: 0.0635 - accuracy: 0.9780 - val_loss: 7.0811 - val_accuracy: 0.3620\n",
      "Epoch 25/30\n",
      "20/20 [==============================] - 2s 83ms/step - loss: 0.1377 - accuracy: 0.9520 - val_loss: 7.1723 - val_accuracy: 0.3640\n",
      "Epoch 26/30\n",
      "20/20 [==============================] - 2s 83ms/step - loss: 0.1021 - accuracy: 0.9620 - val_loss: 7.7278 - val_accuracy: 0.3670\n",
      "Epoch 27/30\n",
      "20/20 [==============================] - 2s 83ms/step - loss: 0.0515 - accuracy: 0.9810 - val_loss: 6.6670 - val_accuracy: 0.4050\n",
      "Epoch 28/30\n",
      "20/20 [==============================] - 2s 83ms/step - loss: 0.0343 - accuracy: 0.9880 - val_loss: 6.2671 - val_accuracy: 0.4130\n",
      "Epoch 29/30\n",
      "20/20 [==============================] - 2s 83ms/step - loss: 0.0219 - accuracy: 0.9900 - val_loss: 6.3819 - val_accuracy: 0.3880\n",
      "Epoch 30/30\n",
      "20/20 [==============================] - 2s 83ms/step - loss: 0.0114 - accuracy: 0.9950 - val_loss: 6.5589 - val_accuracy: 0.4030\n",
      "Epoch 1/30\n",
      "20/20 [==============================] - 3s 163ms/step - loss: 1.7308 - accuracy: 0.6110 - val_loss: 2.7995 - val_accuracy: 0.4030\n",
      "Epoch 2/30\n",
      "20/20 [==============================] - 2s 91ms/step - loss: 0.6220 - accuracy: 0.8060 - val_loss: 3.8763 - val_accuracy: 0.4110\n",
      "Epoch 3/30\n",
      "20/20 [==============================] - 2s 83ms/step - loss: 0.4070 - accuracy: 0.8550 - val_loss: 3.4861 - val_accuracy: 0.4360\n",
      "Epoch 4/30\n",
      "20/20 [==============================] - 2s 83ms/step - loss: 0.2719 - accuracy: 0.9040 - val_loss: 4.4356 - val_accuracy: 0.3620\n",
      "Epoch 5/30\n",
      "20/20 [==============================] - 2s 83ms/step - loss: 0.2657 - accuracy: 0.9160 - val_loss: 4.3042 - val_accuracy: 0.4240\n",
      "Epoch 6/30\n",
      "20/20 [==============================] - 2s 83ms/step - loss: 0.2031 - accuracy: 0.9340 - val_loss: 4.5569 - val_accuracy: 0.4020\n",
      "Epoch 7/30\n",
      "20/20 [==============================] - 2s 83ms/step - loss: 0.1223 - accuracy: 0.9560 - val_loss: 4.0995 - val_accuracy: 0.3930\n",
      "Epoch 8/30\n",
      "20/20 [==============================] - 2s 84ms/step - loss: 0.0967 - accuracy: 0.9710 - val_loss: 4.9502 - val_accuracy: 0.4270\n",
      "Epoch 9/30\n",
      "20/20 [==============================] - 2s 83ms/step - loss: 0.1136 - accuracy: 0.9570 - val_loss: 5.3114 - val_accuracy: 0.3700\n",
      "Epoch 10/30\n",
      "20/20 [==============================] - 2s 83ms/step - loss: 0.0645 - accuracy: 0.9760 - val_loss: 5.2159 - val_accuracy: 0.3980\n",
      "Epoch 11/30\n",
      "20/20 [==============================] - 2s 83ms/step - loss: 0.0275 - accuracy: 0.9940 - val_loss: 5.5142 - val_accuracy: 0.4230\n",
      "Epoch 12/30\n",
      "20/20 [==============================] - 2s 83ms/step - loss: 0.0153 - accuracy: 0.9970 - val_loss: 5.6707 - val_accuracy: 0.4050\n",
      "Epoch 13/30\n",
      "20/20 [==============================] - 2s 83ms/step - loss: 0.0069 - accuracy: 0.9990 - val_loss: 5.8908 - val_accuracy: 0.4220\n",
      "Epoch 14/30\n",
      "20/20 [==============================] - 2s 83ms/step - loss: 0.0036 - accuracy: 1.0000 - val_loss: 6.0463 - val_accuracy: 0.4240\n",
      "Epoch 15/30\n",
      "20/20 [==============================] - 2s 83ms/step - loss: 0.0020 - accuracy: 1.0000 - val_loss: 6.0950 - val_accuracy: 0.4210\n",
      "Epoch 16/30\n",
      "20/20 [==============================] - 2s 83ms/step - loss: 0.0019 - accuracy: 1.0000 - val_loss: 6.3172 - val_accuracy: 0.4140\n",
      "Epoch 17/30\n",
      "20/20 [==============================] - 2s 84ms/step - loss: 0.0014 - accuracy: 1.0000 - val_loss: 6.3233 - val_accuracy: 0.4170\n",
      "Epoch 18/30\n",
      "20/20 [==============================] - 2s 83ms/step - loss: 0.0011 - accuracy: 1.0000 - val_loss: 6.4519 - val_accuracy: 0.4180\n",
      "Epoch 19/30\n",
      "20/20 [==============================] - 2s 83ms/step - loss: 9.4281e-04 - accuracy: 1.0000 - val_loss: 6.4914 - val_accuracy: 0.4200\n",
      "Epoch 20/30\n",
      "20/20 [==============================] - 2s 83ms/step - loss: 8.2100e-04 - accuracy: 1.0000 - val_loss: 6.5561 - val_accuracy: 0.4170\n",
      "Epoch 21/30\n",
      "20/20 [==============================] - 2s 83ms/step - loss: 7.3313e-04 - accuracy: 1.0000 - val_loss: 6.6164 - val_accuracy: 0.4180\n",
      "Epoch 22/30\n",
      "20/20 [==============================] - 2s 83ms/step - loss: 6.7035e-04 - accuracy: 1.0000 - val_loss: 6.6602 - val_accuracy: 0.4180\n",
      "Epoch 23/30\n",
      "20/20 [==============================] - 2s 83ms/step - loss: 6.0599e-04 - accuracy: 1.0000 - val_loss: 6.7029 - val_accuracy: 0.4190\n",
      "Epoch 24/30\n",
      "20/20 [==============================] - 2s 84ms/step - loss: 5.5341e-04 - accuracy: 1.0000 - val_loss: 6.7507 - val_accuracy: 0.4180\n",
      "Epoch 25/30\n",
      "20/20 [==============================] - 2s 83ms/step - loss: 5.1423e-04 - accuracy: 1.0000 - val_loss: 6.7856 - val_accuracy: 0.4190\n",
      "Epoch 26/30\n",
      "20/20 [==============================] - 2s 83ms/step - loss: 4.8166e-04 - accuracy: 1.0000 - val_loss: 6.8225 - val_accuracy: 0.4210\n",
      "Epoch 27/30\n"
     ]
    },
    {
     "name": "stdout",
     "output_type": "stream",
     "text": [
      "20/20 [==============================] - 2s 84ms/step - loss: 4.4676e-04 - accuracy: 1.0000 - val_loss: 6.8676 - val_accuracy: 0.4210\n",
      "Epoch 28/30\n",
      "20/20 [==============================] - 2s 83ms/step - loss: 4.1924e-04 - accuracy: 1.0000 - val_loss: 6.9011 - val_accuracy: 0.4210\n",
      "Epoch 29/30\n",
      "20/20 [==============================] - 2s 83ms/step - loss: 3.9417e-04 - accuracy: 1.0000 - val_loss: 6.9331 - val_accuracy: 0.4200\n",
      "Epoch 30/30\n",
      "20/20 [==============================] - 2s 82ms/step - loss: 3.7194e-04 - accuracy: 1.0000 - val_loss: 6.9673 - val_accuracy: 0.4180\n"
     ]
    }
   ],
   "source": [
    "histories = []\n",
    "for j in tqdm_notebook(range(4)):\n",
    "    #model    \n",
    "    model = Sequential()\n",
    "    model.add(Conv1D(filters=64, kernel_size=5, strides = 1, padding='same', activation='relu', input_shape=(1250, 173,)))\n",
    "    model.add(MaxPooling1D(pool_size=8, padding='same'))\n",
    "    model.add(Conv1D(filters=128, kernel_size=5, strides = 1, padding='same', activation='relu'))\n",
    "    model.add(MaxPooling1D(pool_size=8, padding='same'))\n",
    "    model.add(Flatten())\n",
    "    model.add(Dense(256, activation='relu'))\n",
    "    model.add(Dense(512, activation='relu'))\n",
    "    model.add(layers.Dense(10, activation='softmax'))\n",
    "\n",
    "    model.compile(optimizer='adam',\n",
    "              loss='sparse_categorical_crossentropy',\n",
    "              metrics=['accuracy'])\n",
    "    #print(model.summary())\n",
    "\n",
    "    for i in ([x for x in range(4) if x != j]):\n",
    "        X_train = np.load(f'/Users/lizzy/Desktop/Universita/cesab/project/all_data/train_data/X_train_complete{i}.npy')\n",
    "        y_train = np.load(f'/Users/lizzy/Desktop/Universita/cesab/project/all_data/train_data/y_train{i}.npy')\n",
    "        X_val = np.load(f'/Users/lizzy/Desktop/Universita/cesab/project/all_data/train_data/X_train_complete{j}.npy')\n",
    "        y_val = np.load(f'/Users/lizzy/Desktop/Universita/cesab/project/all_data/train_data/y_train{j}.npy')\n",
    "        history = model.fit(X_train,\n",
    "                            y_train,\n",
    "                            epochs= 30,\n",
    "                            batch_size = 50,\n",
    "                            validation_data = (X_val, y_val),\n",
    "                            callbacks = [])\n",
    "    histories.append((i, history, model))"
   ]
  },
  {
   "cell_type": "code",
   "execution_count": 6,
   "id": "e199ee2d",
   "metadata": {},
   "outputs": [
    {
     "data": {
      "text/html": [
       "<div>\n",
       "<style scoped>\n",
       "    .dataframe tbody tr th:only-of-type {\n",
       "        vertical-align: middle;\n",
       "    }\n",
       "\n",
       "    .dataframe tbody tr th {\n",
       "        vertical-align: top;\n",
       "    }\n",
       "\n",
       "    .dataframe thead th {\n",
       "        text-align: right;\n",
       "    }\n",
       "</style>\n",
       "<table border=\"1\" class=\"dataframe\">\n",
       "  <thead>\n",
       "    <tr style=\"text-align: right;\">\n",
       "      <th></th>\n",
       "      <th>loss</th>\n",
       "      <th>accuracy</th>\n",
       "      <th>val_loss</th>\n",
       "      <th>val_accuracy</th>\n",
       "    </tr>\n",
       "  </thead>\n",
       "  <tbody>\n",
       "    <tr>\n",
       "      <th>0</th>\n",
       "      <td>0.000829</td>\n",
       "      <td>1.000</td>\n",
       "      <td>4.949602</td>\n",
       "      <td>0.423</td>\n",
       "    </tr>\n",
       "    <tr>\n",
       "      <th>1</th>\n",
       "      <td>0.001408</td>\n",
       "      <td>1.000</td>\n",
       "      <td>6.426485</td>\n",
       "      <td>0.370</td>\n",
       "    </tr>\n",
       "    <tr>\n",
       "      <th>2</th>\n",
       "      <td>0.016662</td>\n",
       "      <td>0.995</td>\n",
       "      <td>7.090523</td>\n",
       "      <td>0.360</td>\n",
       "    </tr>\n",
       "    <tr>\n",
       "      <th>3</th>\n",
       "      <td>0.000372</td>\n",
       "      <td>1.000</td>\n",
       "      <td>6.967278</td>\n",
       "      <td>0.418</td>\n",
       "    </tr>\n",
       "  </tbody>\n",
       "</table>\n",
       "</div>"
      ],
      "text/plain": [
       "       loss  accuracy  val_loss  val_accuracy\n",
       "0  0.000829     1.000  4.949602         0.423\n",
       "1  0.001408     1.000  6.426485         0.370\n",
       "2  0.016662     0.995  7.090523         0.360\n",
       "3  0.000372     1.000  6.967278         0.418"
      ]
     },
     "execution_count": 6,
     "metadata": {},
     "output_type": "execute_result"
    }
   ],
   "source": [
    "summary_history = dict({'loss':[], 'accuracy':[], 'val_loss':[], 'val_accuracy':[]})\n",
    "for h in histories:\n",
    "    summary_history['loss'].append(h[1].history['loss'][-1])\n",
    "    summary_history['accuracy'].append(h[1].history['accuracy'][-1])\n",
    "    summary_history['val_loss'].append(h[1].history['val_loss'][-1]) \n",
    "    summary_history['val_accuracy'].append(h[1].history['val_accuracy'][-1])\n",
    "summary_history = pd.DataFrame(summary_history)\n",
    "summary_history"
   ]
  },
  {
   "cell_type": "code",
   "execution_count": 7,
   "id": "c53577b9",
   "metadata": {},
   "outputs": [],
   "source": [
    "import matplotlib.pyplot as plt\n",
    "from matplotlib.pyplot import figure"
   ]
  },
  {
   "cell_type": "code",
   "execution_count": 11,
   "id": "4d97fbfe",
   "metadata": {},
   "outputs": [
    {
     "data": {
      "image/png": "[encoded data removed]",
      "text/plain": [
       "<Figure size 1080x1080 with 8 Axes>"
      ]
     },
     "metadata": {
      "needs_background": "light"
     },
     "output_type": "display_data"
    }
   ],
   "source": [
    "fig, axs = plt.subplots(4, 2,figsize=(15,15))\n",
    "fig.tight_layout(pad=2.0)\n",
    "for h, i in zip(histories, range(len(histories))):\n",
    "    axs[i, 0].plot(h[1].history['loss'])\n",
    "    axs[i, 0].plot(h[1].history['val_loss'])\n",
    "    axs[i, 0].set_title(f'Loss {i}')\n",
    "    axs[i, 0].annotate(str(round(h[1].history['loss'][-1], 2)),\n",
    "                       xy = (199, h[1].history['loss'][-1]),\n",
    "                       xytext = (199, h[1].history['loss'][-1] + 0.1))\n",
    "    axs[i, 0].annotate(str(round(h[1].history['val_loss'][-1], 2)),\n",
    "                       xy = (199, h[1].history['val_loss'][-1]),\n",
    "                       xytext = (199, h[1].history['val_loss'][-1] - 0.1))\n",
    "    axs[0, 0].legend(['train', 'validation'], loc='upper left')\n",
    "    axs[i, 1].plot(h[1].history['accuracy'])\n",
    "    axs[i, 1].plot(h[1].history['val_accuracy'])\n",
    "    axs[i, 1].set_title(f'Accuracy {i}')\n",
    "    axs[i, 1].annotate(str(round(h[1].history['accuracy'][-1], 2)),\n",
    "                       xy = (199, h[1].history['accuracy'][-1]),\n",
    "                       xytext = (199, h[1].history['accuracy'][-1] - 0.01))\n",
    "    axs[i, 1].annotate(str(round(h[1].history['val_accuracy'][-1], 2)),\n",
    "                       xy = (199, h[1].history['val_accuracy'][-1]),\n",
    "                       xytext = (199, h[1].history['val_accuracy'][-1] + 0.01))"
   ]
  },
  {
   "cell_type": "code",
   "execution_count": 12,
   "id": "0da94505",
   "metadata": {},
   "outputs": [],
   "source": [
    "fig.savefig('cnn_data_val.pdf')\n",
    "summary_history.to_csv('summary_history_cnn_data_val.csv')"
   ]
  },
  {
   "cell_type": "code",
   "execution_count": 13,
   "id": "67d765be",
   "metadata": {},
   "outputs": [
    {
     "name": "stdout",
     "output_type": "stream",
     "text": [
      "WARNING:tensorflow:AutoGraph could not transform <function canonicalize_signatures.<locals>.signature_wrapper at 0x2d1a23f70> and will run it as-is.\n",
      "Please report this to the TensorFlow team. When filing the bug, set the verbosity to 10 (on Linux, `export AUTOGRAPH_VERBOSITY=10`) and attach the full output.\n",
      "Cause: unsupported operand type(s) for -: 'NoneType' and 'int'\n",
      "To silence this warning, decorate the function with @tf.autograph.experimental.do_not_convert\n",
      "WARNING: AutoGraph could not transform <function canonicalize_signatures.<locals>.signature_wrapper at 0x2d1a23f70> and will run it as-is.\n",
      "Please report this to the TensorFlow team. When filing the bug, set the verbosity to 10 (on Linux, `export AUTOGRAPH_VERBOSITY=10`) and attach the full output.\n",
      "Cause: unsupported operand type(s) for -: 'NoneType' and 'int'\n",
      "To silence this warning, decorate the function with @tf.autograph.experimental.do_not_convert\n"
     ]
    },
    {
     "name": "stderr",
     "output_type": "stream",
     "text": [
      "/Users/lizzy/miniforge3/envs/tf_m1/lib/python3.8/site-packages/tensorflow/python/keras/engine/training.py:2325: UserWarning: `Model.state_updates` will be removed in a future version. This property should not be used in TensorFlow 2.0, as `updates` are applied automatically.\n",
      "  warnings.warn('`Model.state_updates` will be removed in a future version. '\n",
      "/Users/lizzy/miniforge3/envs/tf_m1/lib/python3.8/site-packages/tensorflow/python/keras/engine/base_layer.py:1397: UserWarning: `layer.updates` will be removed in a future version. This property should not be used in TensorFlow 2.0, as `updates` are applied automatically.\n",
      "  warnings.warn('`layer.updates` will be removed in a future version. '\n"
     ]
    },
    {
     "name": "stdout",
     "output_type": "stream",
     "text": [
      "WARNING:tensorflow:FOR KERAS USERS: The object that you are saving contains one or more Keras models or layers. If you are loading the SavedModel with `tf.keras.models.load_model`, continue reading (otherwise, you may ignore the following instructions). Please change your code to save with `tf.keras.models.save_model` or `model.save`, and confirm that the file \"keras.metadata\" exists in the export directory. In the future, Keras will only load the SavedModels that have this file. In other words, `tf.saved_model.save` will no longer write SavedModels that can be recovered as Keras models (this will apply in TF 2.5).\n",
      "\n",
      "FOR DEVS: If you are overwriting _tracking_metadata in your class, this property has been used to save metadata in the SavedModel. The metadta field will be deprecated soon, so please move the metadata to a different file.\n",
      "INFO:tensorflow:Assets written to: cnn_data_val/assets\n"
     ]
    }
   ],
   "source": [
    "#best model: highest validation accuracy\n",
    "best_model_index = summary_history['val_accuracy'].idxmax()\n",
    "best_model = histories[best_model_index][2]\n",
    "best_model.save('cnn_data_val')"
   ]
  },
  {
   "cell_type": "markdown",
   "id": "768bccba",
   "metadata": {},
   "source": [
    "# Train without validation"
   ]
  },
  {
   "cell_type": "code",
   "execution_count": 4,
   "id": "200373de",
   "metadata": {
    "scrolled": true
   },
   "outputs": [
    {
     "name": "stdout",
     "output_type": "stream",
     "text": [
      "Epoch 1/30\n",
      "WARNING:tensorflow:AutoGraph could not transform <function Model.make_train_function.<locals>.train_function at 0x29e58eb80> and will run it as-is.\n",
      "Please report this to the TensorFlow team. When filing the bug, set the verbosity to 10 (on Linux, `export AUTOGRAPH_VERBOSITY=10`) and attach the full output.\n",
      "Cause: unsupported operand type(s) for -: 'NoneType' and 'int'\n",
      "To silence this warning, decorate the function with @tf.autograph.experimental.do_not_convert\n",
      "WARNING: AutoGraph could not transform <function Model.make_train_function.<locals>.train_function at 0x29e58eb80> and will run it as-is.\n",
      "Please report this to the TensorFlow team. When filing the bug, set the verbosity to 10 (on Linux, `export AUTOGRAPH_VERBOSITY=10`) and attach the full output.\n",
      "Cause: unsupported operand type(s) for -: 'NoneType' and 'int'\n",
      "To silence this warning, decorate the function with @tf.autograph.experimental.do_not_convert\n"
     ]
    },
    {
     "name": "stderr",
     "output_type": "stream",
     "text": [
      "2021-08-31 10:50:54.873499: I tensorflow/compiler/mlir/mlir_graph_optimization_pass.cc:116] None of the MLIR optimization passes are enabled (registered 2)\n",
      "2021-08-31 10:50:54.873740: W tensorflow/core/platform/profile_utils/cpu_utils.cc:126] Failed to get CPU frequency: 0 Hz\n"
     ]
    },
    {
     "name": "stdout",
     "output_type": "stream",
     "text": [
      "89/89 [==============================] - 6s 64ms/step - loss: 1.8634 - accuracy: 0.3153\n",
      "Epoch 2/30\n",
      "89/89 [==============================] - 6s 63ms/step - loss: 1.1875 - accuracy: 0.5948\n",
      "Epoch 3/30\n",
      "89/89 [==============================] - 6s 63ms/step - loss: 0.8570 - accuracy: 0.7078\n",
      "Epoch 4/30\n",
      "89/89 [==============================] - 6s 63ms/step - loss: 0.6450 - accuracy: 0.7783\n",
      "Epoch 5/30\n",
      "89/89 [==============================] - 6s 63ms/step - loss: 0.4910 - accuracy: 0.8370\n",
      "Epoch 6/30\n",
      "89/89 [==============================] - 6s 63ms/step - loss: 0.4027 - accuracy: 0.8541\n",
      "Epoch 7/30\n",
      "89/89 [==============================] - 6s 63ms/step - loss: 0.3210 - accuracy: 0.8857\n",
      "Epoch 8/30\n",
      "89/89 [==============================] - 6s 63ms/step - loss: 0.2719 - accuracy: 0.9056\n",
      "Epoch 9/30\n",
      "89/89 [==============================] - 6s 63ms/step - loss: 0.2209 - accuracy: 0.9274\n",
      "Epoch 10/30\n",
      "89/89 [==============================] - 6s 63ms/step - loss: 0.1753 - accuracy: 0.9411\n",
      "Epoch 11/30\n",
      "89/89 [==============================] - 6s 63ms/step - loss: 0.2070 - accuracy: 0.9295\n",
      "Epoch 12/30\n",
      "89/89 [==============================] - 6s 63ms/step - loss: 0.2597 - accuracy: 0.9172\n",
      "Epoch 13/30\n",
      "89/89 [==============================] - 6s 63ms/step - loss: 0.1636 - accuracy: 0.9444\n",
      "Epoch 14/30\n",
      "89/89 [==============================] - 6s 63ms/step - loss: 0.1207 - accuracy: 0.9572\n",
      "Epoch 15/30\n",
      "89/89 [==============================] - 6s 68ms/step - loss: 0.1097 - accuracy: 0.9609\n",
      "Epoch 16/30\n",
      "89/89 [==============================] - 6s 64ms/step - loss: 0.1778 - accuracy: 0.9504\n",
      "Epoch 17/30\n",
      "89/89 [==============================] - 6s 63ms/step - loss: 0.2228 - accuracy: 0.9468\n",
      "Epoch 18/30\n",
      "89/89 [==============================] - 6s 63ms/step - loss: 0.1619 - accuracy: 0.9505\n",
      "Epoch 19/30\n",
      "89/89 [==============================] - 6s 63ms/step - loss: 0.1113 - accuracy: 0.9616\n",
      "Epoch 20/30\n",
      "89/89 [==============================] - 6s 63ms/step - loss: 0.0644 - accuracy: 0.9792\n",
      "Epoch 21/30\n",
      "89/89 [==============================] - 6s 63ms/step - loss: 0.0760 - accuracy: 0.9730\n",
      "Epoch 22/30\n",
      "89/89 [==============================] - 6s 65ms/step - loss: 0.0936 - accuracy: 0.9703\n",
      "Epoch 23/30\n",
      "89/89 [==============================] - 6s 63ms/step - loss: 0.0649 - accuracy: 0.9769\n",
      "Epoch 24/30\n",
      "89/89 [==============================] - 6s 64ms/step - loss: 0.0901 - accuracy: 0.9785\n",
      "Epoch 25/30\n",
      "89/89 [==============================] - 6s 63ms/step - loss: 0.1063 - accuracy: 0.9648\n",
      "Epoch 26/30\n",
      "89/89 [==============================] - 6s 63ms/step - loss: 0.0486 - accuracy: 0.9818\n",
      "Epoch 27/30\n",
      "89/89 [==============================] - 6s 63ms/step - loss: 0.0225 - accuracy: 0.9924\n",
      "Epoch 28/30\n",
      "89/89 [==============================] - 6s 63ms/step - loss: 0.0162 - accuracy: 0.9952\n",
      "Epoch 29/30\n",
      "89/89 [==============================] - 6s 63ms/step - loss: 0.0306 - accuracy: 0.9889\n",
      "Epoch 30/30\n",
      "89/89 [==============================] - 6s 63ms/step - loss: 0.0087 - accuracy: 0.9976\n"
     ]
    }
   ],
   "source": [
    "model = Sequential()\n",
    "model.add(Conv1D(filters=64, kernel_size=5, strides = 1, padding='same', activation='relu', input_shape=(1250, 173,)))\n",
    "model.add(MaxPooling1D(pool_size=8, padding='same'))\n",
    "model.add(Conv1D(filters=128, kernel_size=5, strides = 1, padding='same', activation='relu'))\n",
    "model.add(MaxPooling1D(pool_size=8, padding='same'))\n",
    "model.add(Flatten())\n",
    "model.add(Dense(256, activation='relu'))\n",
    "model.add(Dense(512, activation='relu'))\n",
    "model.add(layers.Dense(10, activation='softmax'))\n",
    "\n",
    "model.compile(optimizer='adam',\n",
    "          loss='sparse_categorical_crossentropy',\n",
    "          metrics=['accuracy'])\n",
    "#print(model.summary())\n",
    "\n",
    "X_train = np.load(f'/Users/lizzy/Desktop/Universita/cesab/project/all_data/train_data/X_train_complete.npy')[:4450]\n",
    "y_train = np.load(f'/Users/lizzy/Desktop/Universita/cesab/project/all_data/train_data/y_train.npy')[:4450]\n",
    "history = model.fit(X_train,\n",
    "                    y_train,\n",
    "                    epochs= 30,\n",
    "                    batch_size = 50,\n",
    "                    callbacks = [])"
   ]
  },
  {
   "cell_type": "code",
   "execution_count": 5,
   "id": "2d9931db",
   "metadata": {},
   "outputs": [
    {
     "data": {
      "text/html": [
       "<div>\n",
       "<style scoped>\n",
       "    .dataframe tbody tr th:only-of-type {\n",
       "        vertical-align: middle;\n",
       "    }\n",
       "\n",
       "    .dataframe tbody tr th {\n",
       "        vertical-align: top;\n",
       "    }\n",
       "\n",
       "    .dataframe thead th {\n",
       "        text-align: right;\n",
       "    }\n",
       "</style>\n",
       "<table border=\"1\" class=\"dataframe\">\n",
       "  <thead>\n",
       "    <tr style=\"text-align: right;\">\n",
       "      <th></th>\n",
       "      <th>loss</th>\n",
       "      <th>accuracy</th>\n",
       "    </tr>\n",
       "  </thead>\n",
       "  <tbody>\n",
       "    <tr>\n",
       "      <th>0</th>\n",
       "      <td>0.009535</td>\n",
       "      <td>0.996854</td>\n",
       "    </tr>\n",
       "  </tbody>\n",
       "</table>\n",
       "</div>"
      ],
      "text/plain": [
       "       loss  accuracy\n",
       "0  0.009535  0.996854"
      ]
     },
     "execution_count": 5,
     "metadata": {},
     "output_type": "execute_result"
    }
   ],
   "source": [
    "summary_history = dict({'loss':[], 'accuracy':[]})\n",
    "summary_history['loss'].append(history.history['loss'][-1])\n",
    "summary_history['accuracy'].append(history.history['accuracy'][-1])\n",
    "summary_history = pd.DataFrame(summary_history)\n",
    "summary_history"
   ]
  },
  {
   "cell_type": "code",
   "execution_count": 9,
   "id": "b1e49931",
   "metadata": {},
   "outputs": [
    {
     "data": {
      "text/plain": [
       "Text(199, 0.9868539476394653, '1.0')"
      ]
     },
     "execution_count": 9,
     "metadata": {},
     "output_type": "execute_result"
    },
    {
     "data": {
      "image/png": "[encoded data removed]",
      "text/plain": [
       "<Figure size 1080x360 with 2 Axes>"
      ]
     },
     "metadata": {
      "needs_background": "light"
     },
     "output_type": "display_data"
    }
   ],
   "source": [
    "fig, axs = plt.subplots(1, 2,figsize=(15,5))\n",
    "fig.tight_layout(pad=2.0)\n",
    "axs[0].plot(history.history['loss'])\n",
    "axs[0].set_title(f'Loss')\n",
    "axs[0].annotate(str(round(history.history['loss'][-1], 2)),\n",
    "                   xy = (199, history.history['loss'][-1]),\n",
    "                   xytext = (199, history.history['loss'][-1] + 0.1))\n",
    "axs[0].legend(['train'], loc='upper left')\n",
    "axs[1].plot(history.history['accuracy'])\n",
    "axs[1].set_title(f'Accuracy')\n",
    "axs[1].annotate(str(round(history.history['accuracy'][-1], 2)),\n",
    "                   xy = (199, history.history['accuracy'][-1]),\n",
    "                   xytext = (199, history.history['accuracy'][-1] - 0.01))"
   ]
  },
  {
   "cell_type": "code",
   "execution_count": 10,
   "id": "96ba4ae2",
   "metadata": {},
   "outputs": [],
   "source": [
    "fig.savefig('cnn_data.pdf')\n",
    "summary_history.to_csv('summary_history_cnn_data.csv')"
   ]
  },
  {
   "cell_type": "code",
   "execution_count": 11,
   "id": "10a69af0",
   "metadata": {
    "collapsed": true
   },
   "outputs": [
    {
     "name": "stdout",
     "output_type": "stream",
     "text": [
      "WARNING:tensorflow:AutoGraph could not transform <function canonicalize_signatures.<locals>.signature_wrapper at 0x4a3ecf0d0> and will run it as-is.\n",
      "Please report this to the TensorFlow team. When filing the bug, set the verbosity to 10 (on Linux, `export AUTOGRAPH_VERBOSITY=10`) and attach the full output.\n",
      "Cause: unsupported operand type(s) for -: 'NoneType' and 'int'\n",
      "To silence this warning, decorate the function with @tf.autograph.experimental.do_not_convert\n",
      "WARNING: AutoGraph could not transform <function canonicalize_signatures.<locals>.signature_wrapper at 0x4a3ecf0d0> and will run it as-is.\n",
      "Please report this to the TensorFlow team. When filing the bug, set the verbosity to 10 (on Linux, `export AUTOGRAPH_VERBOSITY=10`) and attach the full output.\n",
      "Cause: unsupported operand type(s) for -: 'NoneType' and 'int'\n",
      "To silence this warning, decorate the function with @tf.autograph.experimental.do_not_convert\n"
     ]
    },
    {
     "name": "stderr",
     "output_type": "stream",
     "text": [
      "/Users/lizzy/miniforge3/envs/tf_m1/lib/python3.8/site-packages/tensorflow/python/keras/engine/training.py:2325: UserWarning: `Model.state_updates` will be removed in a future version. This property should not be used in TensorFlow 2.0, as `updates` are applied automatically.\n",
      "  warnings.warn('`Model.state_updates` will be removed in a future version. '\n",
      "2021-08-31 10:54:32.725146: W tensorflow/python/util/util.cc:348] Sets are not currently considered sequences, but this may change in the future, so consider avoiding using them.\n",
      "/Users/lizzy/miniforge3/envs/tf_m1/lib/python3.8/site-packages/tensorflow/python/keras/engine/base_layer.py:1397: UserWarning: `layer.updates` will be removed in a future version. This property should not be used in TensorFlow 2.0, as `updates` are applied automatically.\n",
      "  warnings.warn('`layer.updates` will be removed in a future version. '\n"
     ]
    },
    {
     "name": "stdout",
     "output_type": "stream",
     "text": [
      "WARNING:tensorflow:FOR KERAS USERS: The object that you are saving contains one or more Keras models or layers. If you are loading the SavedModel with `tf.keras.models.load_model`, continue reading (otherwise, you may ignore the following instructions). Please change your code to save with `tf.keras.models.save_model` or `model.save`, and confirm that the file \"keras.metadata\" exists in the export directory. In the future, Keras will only load the SavedModels that have this file. In other words, `tf.saved_model.save` will no longer write SavedModels that can be recovered as Keras models (this will apply in TF 2.5).\n",
      "\n",
      "FOR DEVS: If you are overwriting _tracking_metadata in your class, this property has been used to save metadata in the SavedModel. The metadta field will be deprecated soon, so please move the metadata to a different file.\n",
      "INFO:tensorflow:Assets written to: cnn_data/assets\n"
     ]
    }
   ],
   "source": [
    "model.save('cnn_data')"
   ]
  },
  {
   "cell_type": "markdown",
   "id": "4b3821e6",
   "metadata": {},
   "source": [
    "# Test"
   ]
  },
  {
   "cell_type": "code",
   "execution_count": 7,
   "id": "890fc516",
   "metadata": {},
   "outputs": [],
   "source": [
    "X_test = np.load('/Users/lizzy/Desktop/Universita/cesab/project/all_data/test_data/X_test_complete.npy')[:4500]\n",
    "y_test = np.load('/Users/lizzy/Desktop/Universita/cesab/project/all_data/test_data/y_test.npy')[:4500]"
   ]
  },
  {
   "cell_type": "code",
   "execution_count": 4,
   "id": "8b22cd3e",
   "metadata": {},
   "outputs": [],
   "source": [
    "model =  tensorflow.keras.models.load_model(\"cnn_data\")"
   ]
  },
  {
   "cell_type": "code",
   "execution_count": 5,
   "id": "3a8c7e29",
   "metadata": {},
   "outputs": [
    {
     "name": "stdout",
     "output_type": "stream",
     "text": [
      "Model: \"sequential\"\n",
      "_________________________________________________________________\n",
      "Layer (type)                 Output Shape              Param #   \n",
      "=================================================================\n",
      "conv1d (Conv1D)              (None, 1250, 64)          55424     \n",
      "_________________________________________________________________\n",
      "max_pooling1d (MaxPooling1D) (None, 157, 64)           0         \n",
      "_________________________________________________________________\n",
      "conv1d_1 (Conv1D)            (None, 157, 128)          41088     \n",
      "_________________________________________________________________\n",
      "max_pooling1d_1 (MaxPooling1 (None, 20, 128)           0         \n",
      "_________________________________________________________________\n",
      "flatten (Flatten)            (None, 2560)              0         \n",
      "_________________________________________________________________\n",
      "dense (Dense)                (None, 256)               655616    \n",
      "_________________________________________________________________\n",
      "dense_1 (Dense)              (None, 512)               131584    \n",
      "_________________________________________________________________\n",
      "dense_2 (Dense)              (None, 10)                5130      \n",
      "=================================================================\n",
      "Total params: 888,842\n",
      "Trainable params: 888,842\n",
      "Non-trainable params: 0\n",
      "_________________________________________________________________\n"
     ]
    }
   ],
   "source": [
    "model.summary()"
   ]
  },
  {
   "cell_type": "code",
   "execution_count": 9,
   "id": "f0e5a5c4",
   "metadata": {},
   "outputs": [
    {
     "name": "stdout",
     "output_type": "stream",
     "text": [
      "WARNING:tensorflow:AutoGraph could not transform <function Model.make_test_function.<locals>.test_function at 0x4557734c0> and will run it as-is.\n",
      "Please report this to the TensorFlow team. When filing the bug, set the verbosity to 10 (on Linux, `export AUTOGRAPH_VERBOSITY=10`) and attach the full output.\n",
      "Cause: unsupported operand type(s) for -: 'NoneType' and 'int'\n",
      "To silence this warning, decorate the function with @tf.autograph.experimental.do_not_convert\n",
      "WARNING: AutoGraph could not transform <function Model.make_test_function.<locals>.test_function at 0x4557734c0> and will run it as-is.\n",
      "Please report this to the TensorFlow team. When filing the bug, set the verbosity to 10 (on Linux, `export AUTOGRAPH_VERBOSITY=10`) and attach the full output.\n",
      "Cause: unsupported operand type(s) for -: 'NoneType' and 'int'\n",
      "To silence this warning, decorate the function with @tf.autograph.experimental.do_not_convert\n",
      "  1/133 [..............................] - ETA: 25s - loss: 21.3244 - accuracy: 0.5312"
     ]
    },
    {
     "name": "stderr",
     "output_type": "stream",
     "text": [
      "2021-08-31 10:55:15.197243: I tensorflow/compiler/mlir/mlir_graph_optimization_pass.cc:116] None of the MLIR optimization passes are enabled (registered 2)\n",
      "2021-08-31 10:55:15.198037: W tensorflow/core/platform/profile_utils/cpu_utils.cc:126] Failed to get CPU frequency: 0 Hz\n"
     ]
    },
    {
     "name": "stdout",
     "output_type": "stream",
     "text": [
      "133/133 [==============================] - 2s 16ms/step - loss: 9.4284 - accuracy: 0.5363\n"
     ]
    }
   ],
   "source": [
    "evaluation = model.evaluate(X_test, y_test)"
   ]
  },
  {
   "cell_type": "code",
   "execution_count": 10,
   "id": "0d1670b9",
   "metadata": {},
   "outputs": [
    {
     "name": "stdout",
     "output_type": "stream",
     "text": [
      "Loss: 9.428443908691406, accuracy:0.5362626910209656\n"
     ]
    }
   ],
   "source": [
    "print(f'Loss: {evaluation[0]}, accuracy:{evaluation[1]}')"
   ]
  },
  {
   "cell_type": "code",
   "execution_count": 11,
   "id": "7620ab39",
   "metadata": {},
   "outputs": [
    {
     "name": "stdout",
     "output_type": "stream",
     "text": [
      "WARNING:tensorflow:AutoGraph could not transform <function Model.make_predict_function.<locals>.predict_function at 0x458980e50> and will run it as-is.\n",
      "Please report this to the TensorFlow team. When filing the bug, set the verbosity to 10 (on Linux, `export AUTOGRAPH_VERBOSITY=10`) and attach the full output.\n",
      "Cause: unsupported operand type(s) for -: 'NoneType' and 'int'\n",
      "To silence this warning, decorate the function with @tf.autograph.experimental.do_not_convert\n",
      "WARNING: AutoGraph could not transform <function Model.make_predict_function.<locals>.predict_function at 0x458980e50> and will run it as-is.\n",
      "Please report this to the TensorFlow team. When filing the bug, set the verbosity to 10 (on Linux, `export AUTOGRAPH_VERBOSITY=10`) and attach the full output.\n",
      "Cause: unsupported operand type(s) for -: 'NoneType' and 'int'\n",
      "To silence this warning, decorate the function with @tf.autograph.experimental.do_not_convert\n"
     ]
    }
   ],
   "source": [
    "y_pred = model.predict(X_test)"
   ]
  },
  {
   "cell_type": "code",
   "execution_count": 12,
   "id": "fa57e78f",
   "metadata": {},
   "outputs": [],
   "source": [
    "matrix = sklearn.metrics.confusion_matrix(y_test, y_pred.argmax(axis=1))"
   ]
  },
  {
   "cell_type": "code",
   "execution_count": 13,
   "id": "57a320db",
   "metadata": {},
   "outputs": [],
   "source": [
    "labels = ['air_conditioner', 'car_horn', 'children_playing', 'dog_bark', 'drilling', 'engine_idling', 'gun_shot', 'jackhammer', 'siren', 'street_music']"
   ]
  },
  {
   "cell_type": "code",
   "execution_count": 14,
   "id": "4a037276",
   "metadata": {},
   "outputs": [
    {
     "data": {
      "text/html": [
       "<div>\n",
       "<style scoped>\n",
       "    .dataframe tbody tr th:only-of-type {\n",
       "        vertical-align: middle;\n",
       "    }\n",
       "\n",
       "    .dataframe tbody tr th {\n",
       "        vertical-align: top;\n",
       "    }\n",
       "\n",
       "    .dataframe thead th {\n",
       "        text-align: right;\n",
       "    }\n",
       "</style>\n",
       "<table border=\"1\" class=\"dataframe\">\n",
       "  <thead>\n",
       "    <tr style=\"text-align: right;\">\n",
       "      <th></th>\n",
       "      <th>Class</th>\n",
       "      <th>Precision</th>\n",
       "      <th>Recall</th>\n",
       "    </tr>\n",
       "  </thead>\n",
       "  <tbody>\n",
       "    <tr>\n",
       "      <th>0</th>\n",
       "      <td>air_conditioner</td>\n",
       "      <td>0.675768</td>\n",
       "      <td>0.396000</td>\n",
       "    </tr>\n",
       "    <tr>\n",
       "      <th>1</th>\n",
       "      <td>car_horn</td>\n",
       "      <td>0.759777</td>\n",
       "      <td>0.615385</td>\n",
       "    </tr>\n",
       "    <tr>\n",
       "      <th>2</th>\n",
       "      <td>children_playing</td>\n",
       "      <td>0.544574</td>\n",
       "      <td>0.562000</td>\n",
       "    </tr>\n",
       "    <tr>\n",
       "      <th>3</th>\n",
       "      <td>dog_bark</td>\n",
       "      <td>0.542962</td>\n",
       "      <td>0.594000</td>\n",
       "    </tr>\n",
       "    <tr>\n",
       "      <th>4</th>\n",
       "      <td>drilling</td>\n",
       "      <td>0.372325</td>\n",
       "      <td>0.522000</td>\n",
       "    </tr>\n",
       "    <tr>\n",
       "      <th>5</th>\n",
       "      <td>engine_idling</td>\n",
       "      <td>0.583333</td>\n",
       "      <td>0.478261</td>\n",
       "    </tr>\n",
       "    <tr>\n",
       "      <th>6</th>\n",
       "      <td>gun_shot</td>\n",
       "      <td>0.740196</td>\n",
       "      <td>0.820652</td>\n",
       "    </tr>\n",
       "    <tr>\n",
       "      <th>7</th>\n",
       "      <td>jackhammer</td>\n",
       "      <td>0.532134</td>\n",
       "      <td>0.457965</td>\n",
       "    </tr>\n",
       "    <tr>\n",
       "      <th>8</th>\n",
       "      <td>siren</td>\n",
       "      <td>0.517900</td>\n",
       "      <td>0.552163</td>\n",
       "    </tr>\n",
       "    <tr>\n",
       "      <th>9</th>\n",
       "      <td>street_music</td>\n",
       "      <td>0.494058</td>\n",
       "      <td>0.582000</td>\n",
       "    </tr>\n",
       "  </tbody>\n",
       "</table>\n",
       "</div>"
      ],
      "text/plain": [
       "              Class  Precision    Recall\n",
       "0   air_conditioner   0.675768  0.396000\n",
       "1          car_horn   0.759777  0.615385\n",
       "2  children_playing   0.544574  0.562000\n",
       "3          dog_bark   0.542962  0.594000\n",
       "4          drilling   0.372325  0.522000\n",
       "5     engine_idling   0.583333  0.478261\n",
       "6          gun_shot   0.740196  0.820652\n",
       "7        jackhammer   0.532134  0.457965\n",
       "8             siren   0.517900  0.552163\n",
       "9      street_music   0.494058  0.582000"
      ]
     },
     "execution_count": 14,
     "metadata": {},
     "output_type": "execute_result"
    }
   ],
   "source": [
    "scores = dict({'Class':[], 'Precision':[], 'Recall':[]})\n",
    "for cl in range(10):\n",
    "    precision = matrix[cl,cl] / sum(matrix[:,cl]) #tp/(tp+fp)\n",
    "    recall = matrix[cl,cl] / sum(matrix[cl,:]) #tp/(tp+fn)\n",
    "    scores['Class'].append(labels[cl])\n",
    "    scores['Precision'].append(precision)\n",
    "    scores['Recall'].append(recall)\n",
    "scores = pd.DataFrame(scores)\n",
    "scores"
   ]
  },
  {
   "cell_type": "code",
   "execution_count": 15,
   "id": "1a3e4061",
   "metadata": {},
   "outputs": [],
   "source": [
    "scores.to_csv('scores_cnn_data.csv')"
   ]
  },
  {
   "cell_type": "code",
   "execution_count": null,
   "id": "bc293751",
   "metadata": {},
   "outputs": [],
   "source": []
  }
 ],
 "metadata": {
  "kernelspec": {
   "display_name": "Python 3.8.10 64-bit ('tf_m1': conda)",
   "language": "python",
   "name": "python3810jvsc74a57bd0d8423a7c5f0add4bbe1caca8a5de1580bbb6fd1666ce65ae15fa23061d14fbed"
  },
  "language_info": {
   "codemirror_mode": {
    "name": "ipython",
    "version": 3
   },
   "file_extension": ".py",
   "mimetype": "text/x-python",
   "name": "python",
   "nbconvert_exporter": "python",
   "pygments_lexer": "ipython3",
   "version": "3.8.10"
  }
 },
 "nbformat": 4,
 "nbformat_minor": 5
}
